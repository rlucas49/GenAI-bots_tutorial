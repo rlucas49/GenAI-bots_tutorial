{
 "cells": [
  {
   "cell_type": "markdown",
   "id": "bbf4adfc-e37c-4dc2-a37e-13fac3006236",
   "metadata": {},
   "source": [
    "# Creating Gen AI Agents with LangGraph"
   ]
  },
  {
   "cell_type": "markdown",
   "id": "b7b66b79-13a0-4f8a-9783-60bd700a70c4",
   "metadata": {},
   "source": [
    "This notebook is used to create 6 different GenAI agents using OpenAI or Ollama models.\n",
    "\n",
    "### It runs on Datalab. Reconfiguring will be needed for use on other platforms.\n",
    "\n",
    "Notes:\n",
    "Must update pip to get the installs to be compatible with each other\n",
    "\n",
    "Make sure there is money in the OpenAI or Ollama account in order to run(https://platform.openai.com/usage)\n",
    "\n",
    "References\n",
    "https://platform.openai.com/docs/overview\n",
    "https://www.datacamp.com/tutorial/langgraph-tutorial\n",
    "#### Created Sept 19, 2025"
   ]
  },
  {
   "cell_type": "code",
   "execution_count": 1,
   "id": "18d75c5a-e9cd-412c-b30d-c0f756bd8f86",
   "metadata": {
    "executionCancelledAt": null,
    "executionTime": null,
    "lastExecutedAt": null,
    "lastExecutedByKernel": null,
    "lastScheduledRunId": null,
    "lastSuccessfullyExecutedCode": null,
    "outputsMetadata": {
     "0": {
      "height": 311,
      "type": "stream"
     }
    }
   },
   "outputs": [
    {
     "name": "stdout",
     "output_type": "stream",
     "text": [
      "Defaulting to user installation because normal site-packages is not writeable\n",
      "Requirement already satisfied: pip in /usr/local/lib/python3.10/dist-packages (25.0.1)\n",
      "Collecting pip\n",
      "  Downloading pip-25.2-py3-none-any.whl.metadata (4.7 kB)\n",
      "Downloading pip-25.2-py3-none-any.whl (1.8 MB)\n",
      "\u001b[2K   \u001b[90m━━━━━━━━━━━━━━━━━━━━━━━━━━━━━━━━━━━━━━━━\u001b[0m \u001b[32m1.8/1.8 MB\u001b[0m \u001b[31m106.2 MB/s\u001b[0m eta \u001b[36m0:00:00\u001b[0m\n",
      "\u001b[?25hInstalling collected packages: pip\n",
      "Successfully installed pip-25.2\n",
      "\n",
      "\u001b[1m[\u001b[0m\u001b[34;49mnotice\u001b[0m\u001b[1;39;49m]\u001b[0m\u001b[39;49m A new release of pip is available: \u001b[0m\u001b[31;49m25.0.1\u001b[0m\u001b[39;49m -> \u001b[0m\u001b[32;49m25.2\u001b[0m\n",
      "\u001b[1m[\u001b[0m\u001b[34;49mnotice\u001b[0m\u001b[1;39;49m]\u001b[0m\u001b[39;49m To update, run: \u001b[0m\u001b[32;49mpython3 -m pip install --upgrade pip\u001b[0m\n"
     ]
    }
   ],
   "source": [
    "!python3 -m pip install --upgrade pip"
   ]
  },
  {
   "cell_type": "code",
   "execution_count": 1,
   "id": "fc794592-8f1d-4797-9983-3748ab8b4f2d",
   "metadata": {
    "executionCancelledAt": null,
    "executionTime": null,
    "lastExecutedAt": null,
    "lastExecutedByKernel": null,
    "lastScheduledRunId": null,
    "lastSuccessfullyExecutedCode": null,
    "outputsMetadata": {
     "0": {
      "height": 38,
      "type": "stream"
     }
    }
   },
   "outputs": [
    {
     "name": "stdout",
     "output_type": "stream",
     "text": [
      "pip 25.0.1 from /usr/local/lib/python3.10/dist-packages/pip (python 3.10)\n"
     ]
    }
   ],
   "source": [
    "!pip --version"
   ]
  },
  {
   "cell_type": "code",
   "execution_count": 2,
   "id": "119cf9bc-b7d8-42da-8bd0-a8911c3d68b5",
   "metadata": {
    "executionCancelledAt": null,
    "executionTime": 13622,
    "lastExecutedAt": 1758744176511,
    "lastExecutedByKernel": "99c4256f-1e8e-482e-82c6-6c507179c0c3",
    "lastScheduledRunId": null,
    "lastSuccessfullyExecutedCode": "# pip installs needed\n!pip install langgraph langchain-core langchain-community langchain_openai duckduckgo-search -U ddgs",
    "outputsMetadata": {
     "0": {
      "height": 518,
      "type": "stream"
     }
    }
   },
   "outputs": [
    {
     "name": "stdout",
     "output_type": "stream",
     "text": [
      "Defaulting to user installation because normal site-packages is not writeable\n",
      "Collecting langgraph\n",
      "  Downloading langgraph-0.6.7-py3-none-any.whl.metadata (6.8 kB)\n",
      "Requirement already satisfied: langchain-core in /usr/local/lib/python3.10/dist-packages (0.1.53)\n",
      "Collecting langchain-core\n",
      "  Downloading langchain_core-0.3.76-py3-none-any.whl.metadata (3.7 kB)\n",
      "Requirement already satisfied: langchain-community in /usr/local/lib/python3.10/dist-packages (0.0.38)\n",
      "Collecting langchain-community\n",
      "  Downloading langchain_community-0.3.29-py3-none-any.whl.metadata (2.9 kB)\n",
      "Requirement already satisfied: langchain_openai in /usr/local/lib/python3.10/dist-packages (0.1.7)\n",
      "Collecting langchain_openai\n",
      "  Downloading langchain_openai-0.3.33-py3-none-any.whl.metadata (2.4 kB)\n",
      "Collecting duckduckgo-search\n",
      "  Downloading duckduckgo_search-8.1.1-py3-none-any.whl.metadata (16 kB)\n",
      "Collecting ddgs\n",
      "  Downloading ddgs-9.6.0-py3-none-any.whl.metadata (18 kB)\n",
      "Collecting langgraph-checkpoint<3.0.0,>=2.1.0 (from langgraph)\n",
      "  Downloading langgraph_checkpoint-2.1.1-py3-none-any.whl.metadata (4.2 kB)\n",
      "Collecting langgraph-prebuilt<0.7.0,>=0.6.0 (from langgraph)\n",
      "  Downloading langgraph_prebuilt-0.6.4-py3-none-any.whl.metadata (4.5 kB)\n",
      "Collecting langgraph-sdk<0.3.0,>=0.2.2 (from langgraph)\n",
      "  Downloading langgraph_sdk-0.2.9-py3-none-any.whl.metadata (1.5 kB)\n",
      "Collecting pydantic>=2.7.4 (from langgraph)\n",
      "  Downloading pydantic-2.11.9-py3-none-any.whl.metadata (68 kB)\n",
      "Requirement already satisfied: xxhash>=3.5.0 in /usr/local/lib/python3.10/dist-packages (from langgraph) (3.5.0)\n",
      "Collecting langsmith>=0.3.45 (from langchain-core)\n",
      "  Downloading langsmith-0.4.30-py3-none-any.whl.metadata (14 kB)\n",
      "Requirement already satisfied: tenacity!=8.4.0,<10.0.0,>=8.1.0 in /usr/local/lib/python3.10/dist-packages (from langchain-core) (8.5.0)\n",
      "Requirement already satisfied: jsonpatch<2.0,>=1.33 in /usr/local/lib/python3.10/dist-packages (from langchain-core) (1.33)\n",
      "Requirement already satisfied: PyYAML>=5.3 in /usr/local/lib/python3.10/dist-packages (from langchain-core) (6.0.1)\n",
      "Requirement already satisfied: typing-extensions>=4.7 in /usr/local/lib/python3.10/dist-packages (from langchain-core) (4.12.2)\n",
      "Requirement already satisfied: packaging>=23.2 in /usr/local/lib/python3.10/dist-packages (from langchain-core) (23.2)\n",
      "Collecting langchain<2.0.0,>=0.3.27 (from langchain-community)\n",
      "  Downloading langchain-0.3.27-py3-none-any.whl.metadata (7.8 kB)\n",
      "Requirement already satisfied: SQLAlchemy<3,>=1.4 in /usr/local/lib/python3.10/dist-packages (from langchain-community) (2.0.38)\n",
      "Collecting requests<3,>=2.32.5 (from langchain-community)\n",
      "  Downloading requests-2.32.5-py3-none-any.whl.metadata (4.9 kB)\n",
      "Requirement already satisfied: aiohttp<4.0.0,>=3.8.3 in /usr/local/lib/python3.10/dist-packages (from langchain-community) (3.11.12)\n",
      "Requirement already satisfied: dataclasses-json<0.7,>=0.6.7 in /usr/local/lib/python3.10/dist-packages (from langchain-community) (0.6.7)\n",
      "Collecting pydantic-settings<3.0.0,>=2.10.1 (from langchain-community)\n",
      "  Downloading pydantic_settings-2.11.0-py3-none-any.whl.metadata (3.4 kB)\n",
      "Requirement already satisfied: httpx-sse<1.0.0,>=0.4.0 in /usr/local/lib/python3.10/dist-packages (from langchain-community) (0.4.0)\n",
      "Requirement already satisfied: numpy>=1.26.2 in /usr/local/lib/python3.10/dist-packages (from langchain-community) (1.26.4)\n",
      "Collecting openai<2.0.0,>=1.104.2 (from langchain_openai)\n",
      "  Downloading openai-1.109.1-py3-none-any.whl.metadata (29 kB)\n",
      "Requirement already satisfied: tiktoken<1,>=0.7 in /usr/local/lib/python3.10/dist-packages (from langchain_openai) (0.7.0)\n",
      "Requirement already satisfied: click>=8.1.8 in /usr/local/lib/python3.10/dist-packages (from duckduckgo-search) (8.1.8)\n",
      "Collecting primp>=0.15.0 (from duckduckgo-search)\n",
      "  Downloading primp-0.15.0-cp38-abi3-manylinux_2_17_x86_64.manylinux2014_x86_64.whl.metadata (13 kB)\n",
      "Requirement already satisfied: lxml>=5.3.0 in /usr/local/lib/python3.10/dist-packages (from duckduckgo-search) (5.3.1)\n",
      "Collecting lxml>=5.3.0 (from duckduckgo-search)\n",
      "  Downloading lxml-6.0.2-cp310-cp310-manylinux_2_26_x86_64.manylinux_2_28_x86_64.whl.metadata (3.6 kB)\n",
      "Collecting httpx>=0.28.1 (from httpx[brotli,http2,socks]>=0.28.1->ddgs)\n",
      "  Downloading httpx-0.28.1-py3-none-any.whl.metadata (7.1 kB)\n",
      "Requirement already satisfied: aiohappyeyeballs>=2.3.0 in /usr/local/lib/python3.10/dist-packages (from aiohttp<4.0.0,>=3.8.3->langchain-community) (2.4.6)\n",
      "Requirement already satisfied: aiosignal>=1.1.2 in /usr/local/lib/python3.10/dist-packages (from aiohttp<4.0.0,>=3.8.3->langchain-community) (1.3.2)\n",
      "Requirement already satisfied: async-timeout<6.0,>=4.0 in /usr/local/lib/python3.10/dist-packages (from aiohttp<4.0.0,>=3.8.3->langchain-community) (4.0.3)\n",
      "Requirement already satisfied: attrs>=17.3.0 in /usr/local/lib/python3.10/dist-packages (from aiohttp<4.0.0,>=3.8.3->langchain-community) (25.1.0)\n",
      "Requirement already satisfied: frozenlist>=1.1.1 in /usr/local/lib/python3.10/dist-packages (from aiohttp<4.0.0,>=3.8.3->langchain-community) (1.5.0)\n",
      "Requirement already satisfied: multidict<7.0,>=4.5 in /usr/local/lib/python3.10/dist-packages (from aiohttp<4.0.0,>=3.8.3->langchain-community) (6.1.0)\n",
      "Requirement already satisfied: propcache>=0.2.0 in /usr/local/lib/python3.10/dist-packages (from aiohttp<4.0.0,>=3.8.3->langchain-community) (0.2.1)\n",
      "Requirement already satisfied: yarl<2.0,>=1.17.0 in /usr/local/lib/python3.10/dist-packages (from aiohttp<4.0.0,>=3.8.3->langchain-community) (1.18.3)\n",
      "Requirement already satisfied: marshmallow<4.0.0,>=3.18.0 in /usr/local/lib/python3.10/dist-packages (from dataclasses-json<0.7,>=0.6.7->langchain-community) (3.26.1)\n",
      "Requirement already satisfied: typing-inspect<1,>=0.4.0 in /usr/local/lib/python3.10/dist-packages (from dataclasses-json<0.7,>=0.6.7->langchain-community) (0.9.0)\n",
      "Requirement already satisfied: anyio in /usr/local/lib/python3.10/dist-packages (from httpx>=0.28.1->httpx[brotli,http2,socks]>=0.28.1->ddgs) (4.8.0)\n",
      "Requirement already satisfied: certifi in /usr/local/lib/python3.10/dist-packages (from httpx>=0.28.1->httpx[brotli,http2,socks]>=0.28.1->ddgs) (2025.1.31)\n",
      "Requirement already satisfied: httpcore==1.* in /usr/local/lib/python3.10/dist-packages (from httpx>=0.28.1->httpx[brotli,http2,socks]>=0.28.1->ddgs) (1.0.7)\n",
      "Requirement already satisfied: idna in /usr/local/lib/python3.10/dist-packages (from httpx>=0.28.1->httpx[brotli,http2,socks]>=0.28.1->ddgs) (3.10)\n",
      "Requirement already satisfied: h11<0.15,>=0.13 in /usr/local/lib/python3.10/dist-packages (from httpcore==1.*->httpx>=0.28.1->httpx[brotli,http2,socks]>=0.28.1->ddgs) (0.14.0)\n",
      "Collecting socksio==1.* (from httpx[brotli,http2,socks]>=0.28.1->ddgs)\n",
      "  Downloading socksio-1.0.0-py3-none-any.whl.metadata (6.1 kB)\n",
      "Collecting brotli (from httpx[brotli,http2,socks]>=0.28.1->ddgs)\n",
      "  Downloading Brotli-1.1.0-cp310-cp310-manylinux_2_5_x86_64.manylinux1_x86_64.manylinux_2_12_x86_64.manylinux2010_x86_64.whl.metadata (5.5 kB)\n",
      "Collecting h2<5,>=3 (from httpx[brotli,http2,socks]>=0.28.1->ddgs)\n",
      "  Downloading h2-4.3.0-py3-none-any.whl.metadata (5.1 kB)\n",
      "Requirement already satisfied: jsonpointer>=1.9 in /usr/local/lib/python3.10/dist-packages (from jsonpatch<2.0,>=1.33->langchain-core) (3.0.0)\n",
      "Collecting langchain-text-splitters<1.0.0,>=0.3.9 (from langchain<2.0.0,>=0.3.27->langchain-community)\n",
      "  Downloading langchain_text_splitters-0.3.11-py3-none-any.whl.metadata (1.8 kB)\n",
      "Collecting ormsgpack>=1.10.0 (from langgraph-checkpoint<3.0.0,>=2.1.0->langgraph)\n",
      "  Downloading ormsgpack-1.10.0-cp310-cp310-manylinux_2_17_x86_64.manylinux2014_x86_64.whl.metadata (43 kB)\n",
      "Requirement already satisfied: orjson>=3.10.1 in /usr/local/lib/python3.10/dist-packages (from langgraph-sdk<0.3.0,>=0.2.2->langgraph) (3.10.15)\n",
      "Requirement already satisfied: requests-toolbelt>=1.0.0 in /usr/local/lib/python3.10/dist-packages (from langsmith>=0.3.45->langchain-core) (1.0.0)\n",
      "Collecting zstandard>=0.23.0 (from langsmith>=0.3.45->langchain-core)\n",
      "  Downloading zstandard-0.25.0-cp310-cp310-manylinux2014_x86_64.manylinux_2_17_x86_64.whl.metadata (3.3 kB)\n",
      "Requirement already satisfied: distro<2,>=1.7.0 in /usr/lib/python3/dist-packages (from openai<2.0.0,>=1.104.2->langchain_openai) (1.7.0)\n",
      "Requirement already satisfied: jiter<1,>=0.4.0 in /usr/local/lib/python3.10/dist-packages (from openai<2.0.0,>=1.104.2->langchain_openai) (0.8.2)\n",
      "Requirement already satisfied: sniffio in /usr/local/lib/python3.10/dist-packages (from openai<2.0.0,>=1.104.2->langchain_openai) (1.3.1)\n",
      "Requirement already satisfied: tqdm>4 in /usr/local/lib/python3.10/dist-packages (from openai<2.0.0,>=1.104.2->langchain_openai) (4.67.1)\n",
      "Requirement already satisfied: annotated-types>=0.6.0 in /usr/local/lib/python3.10/dist-packages (from pydantic>=2.7.4->langgraph) (0.7.0)\n",
      "Collecting pydantic-core==2.33.2 (from pydantic>=2.7.4->langgraph)\n",
      "  Downloading pydantic_core-2.33.2-cp310-cp310-manylinux_2_17_x86_64.manylinux2014_x86_64.whl.metadata (6.8 kB)\n",
      "Collecting typing-inspection>=0.4.0 (from pydantic>=2.7.4->langgraph)\n",
      "  Downloading typing_inspection-0.4.1-py3-none-any.whl.metadata (2.6 kB)\n",
      "Requirement already satisfied: python-dotenv>=0.21.0 in /usr/local/lib/python3.10/dist-packages (from pydantic-settings<3.0.0,>=2.10.1->langchain-community) (1.0.1)\n",
      "Requirement already satisfied: charset_normalizer<4,>=2 in /usr/local/lib/python3.10/dist-packages (from requests<3,>=2.32.5->langchain-community) (3.4.1)\n",
      "Requirement already satisfied: urllib3<3,>=1.21.1 in /usr/local/lib/python3.10/dist-packages (from requests<3,>=2.32.5->langchain-community) (2.3.0)\n",
      "Requirement already satisfied: greenlet!=0.4.17 in /usr/local/lib/python3.10/dist-packages (from SQLAlchemy<3,>=1.4->langchain-community) (3.1.1)\n",
      "Requirement already satisfied: regex>=2022.1.18 in /usr/local/lib/python3.10/dist-packages (from tiktoken<1,>=0.7->langchain_openai) (2023.12.25)\n",
      "Requirement already satisfied: exceptiongroup>=1.0.2 in /usr/local/lib/python3.10/dist-packages (from anyio->httpx>=0.28.1->httpx[brotli,http2,socks]>=0.28.1->ddgs) (1.2.2)\n",
      "Collecting hyperframe<7,>=6.1 (from h2<5,>=3->httpx[brotli,http2,socks]>=0.28.1->ddgs)\n",
      "  Downloading hyperframe-6.1.0-py3-none-any.whl.metadata (4.3 kB)\n",
      "Collecting hpack<5,>=4.1 (from h2<5,>=3->httpx[brotli,http2,socks]>=0.28.1->ddgs)\n",
      "  Downloading hpack-4.1.0-py3-none-any.whl.metadata (4.6 kB)\n",
      "Requirement already satisfied: mypy-extensions>=0.3.0 in /usr/local/lib/python3.10/dist-packages (from typing-inspect<1,>=0.4.0->dataclasses-json<0.7,>=0.6.7->langchain-community) (1.0.0)\n",
      "Downloading langgraph-0.6.7-py3-none-any.whl (153 kB)\n",
      "Downloading langchain_core-0.3.76-py3-none-any.whl (447 kB)\n",
      "Downloading langchain_community-0.3.29-py3-none-any.whl (2.5 MB)\n",
      "\u001b[2K   \u001b[90m━━━━━━━━━━━━━━━━━━━━━━━━━━━━━━━━━━━━━━━━\u001b[0m \u001b[32m2.5/2.5 MB\u001b[0m \u001b[31m82.4 MB/s\u001b[0m eta \u001b[36m0:00:00\u001b[0m\n",
      "\u001b[?25hDownloading langchain_openai-0.3.33-py3-none-any.whl (74 kB)\n",
      "Downloading duckduckgo_search-8.1.1-py3-none-any.whl (18 kB)\n",
      "Downloading ddgs-9.6.0-py3-none-any.whl (41 kB)\n",
      "Downloading httpx-0.28.1-py3-none-any.whl (73 kB)\n",
      "Downloading socksio-1.0.0-py3-none-any.whl (12 kB)\n",
      "Downloading langchain-0.3.27-py3-none-any.whl (1.0 MB)\n",
      "\u001b[2K   \u001b[90m━━━━━━━━━━━━━━━━━━━━━━━━━━━━━━━━━━━━━━━━\u001b[0m \u001b[32m1.0/1.0 MB\u001b[0m \u001b[31m77.5 MB/s\u001b[0m eta \u001b[36m0:00:00\u001b[0m\n",
      "\u001b[?25hDownloading langgraph_checkpoint-2.1.1-py3-none-any.whl (43 kB)\n",
      "Downloading langgraph_prebuilt-0.6.4-py3-none-any.whl (28 kB)\n",
      "Downloading langgraph_sdk-0.2.9-py3-none-any.whl (56 kB)\n",
      "Downloading langsmith-0.4.30-py3-none-any.whl (386 kB)\n",
      "Downloading lxml-6.0.2-cp310-cp310-manylinux_2_26_x86_64.manylinux_2_28_x86_64.whl (5.3 MB)\n",
      "\u001b[2K   \u001b[90m━━━━━━━━━━━━━━━━━━━━━━━━━━━━━━━━━━━━━━━━\u001b[0m \u001b[32m5.3/5.3 MB\u001b[0m \u001b[31m195.8 MB/s\u001b[0m eta \u001b[36m0:00:00\u001b[0m\n",
      "\u001b[?25hDownloading openai-1.109.1-py3-none-any.whl (948 kB)\n",
      "\u001b[2K   \u001b[90m━━━━━━━━━━━━━━━━━━━━━━━━━━━━━━━━━━━━━━━━\u001b[0m \u001b[32m948.6/948.6 kB\u001b[0m \u001b[31m82.1 MB/s\u001b[0m eta \u001b[36m0:00:00\u001b[0m\n",
      "\u001b[?25hDownloading primp-0.15.0-cp38-abi3-manylinux_2_17_x86_64.manylinux2014_x86_64.whl (3.3 MB)\n",
      "\u001b[2K   \u001b[90m━━━━━━━━━━━━━━━━━━━━━━━━━━━━━━━━━━━━━━━━\u001b[0m \u001b[32m3.3/3.3 MB\u001b[0m \u001b[31m145.5 MB/s\u001b[0m eta \u001b[36m0:00:00\u001b[0m\n",
      "\u001b[?25hDownloading pydantic-2.11.9-py3-none-any.whl (444 kB)\n",
      "Downloading pydantic_core-2.33.2-cp310-cp310-manylinux_2_17_x86_64.manylinux2014_x86_64.whl (2.0 MB)\n",
      "\u001b[2K   \u001b[90m━━━━━━━━━━━━━━━━━━━━━━━━━━━━━━━━━━━━━━━━\u001b[0m \u001b[32m2.0/2.0 MB\u001b[0m \u001b[31m7.2 MB/s\u001b[0m eta \u001b[36m0:00:00\u001b[0meta \u001b[36m0:00:01\u001b[0m\n",
      "\u001b[?25hDownloading pydantic_settings-2.11.0-py3-none-any.whl (48 kB)\n",
      "Downloading requests-2.32.5-py3-none-any.whl (64 kB)\n",
      "Downloading h2-4.3.0-py3-none-any.whl (61 kB)\n",
      "Downloading langchain_text_splitters-0.3.11-py3-none-any.whl (33 kB)\n",
      "Downloading ormsgpack-1.10.0-cp310-cp310-manylinux_2_17_x86_64.manylinux2014_x86_64.whl (216 kB)\n",
      "Downloading typing_inspection-0.4.1-py3-none-any.whl (14 kB)\n",
      "Downloading zstandard-0.25.0-cp310-cp310-manylinux2014_x86_64.manylinux_2_17_x86_64.whl (5.6 MB)\n",
      "\u001b[2K   \u001b[90m━━━━━━━━━━━━━━━━━━━━━━━━━━━━━━━━━━━━━━━━\u001b[0m \u001b[32m5.6/5.6 MB\u001b[0m \u001b[31m5.6 MB/s\u001b[0m eta \u001b[36m0:00:00\u001b[0ma \u001b[36m0:00:01\u001b[0mmm\n",
      "\u001b[?25hDownloading Brotli-1.1.0-cp310-cp310-manylinux_2_5_x86_64.manylinux1_x86_64.manylinux_2_12_x86_64.manylinux2010_x86_64.whl (3.0 MB)\n",
      "\u001b[2K   \u001b[90m━━━━━━━━━━━━━━━━━━━━━━━━━━━━━━━━━━━━━━━━\u001b[0m \u001b[32m3.0/3.0 MB\u001b[0m \u001b[31m5.6 MB/s\u001b[0m eta \u001b[36m0:00:00\u001b[0ma \u001b[36m0:00:01\u001b[0mm\n",
      "\u001b[?25hDownloading hpack-4.1.0-py3-none-any.whl (34 kB)\n",
      "Downloading hyperframe-6.1.0-py3-none-any.whl (13 kB)\n",
      "Installing collected packages: brotli, zstandard, typing-inspection, socksio, requests, pydantic-core, primp, ormsgpack, lxml, hyperframe, hpack, pydantic, httpx, h2, duckduckgo-search, pydantic-settings, openai, langsmith, langgraph-sdk, langchain-core, ddgs, langgraph-checkpoint, langchain-text-splitters, langchain_openai, langgraph-prebuilt, langchain, langgraph, langchain-community\n",
      "\u001b[31mERROR: pip's dependency resolver does not currently take into account all the packages that are installed. This behaviour is the source of the following dependency conflicts.\n",
      "crewai 0.30.11 requires langchain<0.2.0,>=0.1.10, but you have langchain 0.3.27 which is incompatible.\n",
      "embedchain 0.1.113 requires langchain<0.2.0,>=0.1.4, but you have langchain 0.3.27 which is incompatible.\n",
      "embedchain 0.1.113 requires langchain-openai<0.2.0,>=0.1.7, but you have langchain-openai 0.3.33 which is incompatible.\n",
      "langchain-cohere 0.1.5 requires langchain-core<0.3,>=0.1.42, but you have langchain-core 0.3.76 which is incompatible.\u001b[0m\u001b[31m\n",
      "\u001b[0mSuccessfully installed brotli-1.1.0 ddgs-9.6.0 duckduckgo-search-8.1.1 h2-4.3.0 hpack-4.1.0 httpx-0.28.1 hyperframe-6.1.0 langchain-0.3.27 langchain-community-0.3.29 langchain-core-0.3.76 langchain-text-splitters-0.3.11 langchain_openai-0.3.33 langgraph-0.6.7 langgraph-checkpoint-2.1.1 langgraph-prebuilt-0.6.4 langgraph-sdk-0.2.9 langsmith-0.4.30 lxml-6.0.2 openai-1.109.1 ormsgpack-1.10.0 primp-0.15.0 pydantic-2.11.9 pydantic-core-2.33.2 pydantic-settings-2.11.0 requests-2.32.5 socksio-1.0.0 typing-inspection-0.4.1 zstandard-0.25.0\n",
      "\n",
      "\u001b[1m[\u001b[0m\u001b[34;49mnotice\u001b[0m\u001b[1;39;49m]\u001b[0m\u001b[39;49m A new release of pip is available: \u001b[0m\u001b[31;49m25.0.1\u001b[0m\u001b[39;49m -> \u001b[0m\u001b[32;49m25.2\u001b[0m\n",
      "\u001b[1m[\u001b[0m\u001b[34;49mnotice\u001b[0m\u001b[1;39;49m]\u001b[0m\u001b[39;49m To update, run: \u001b[0m\u001b[32;49mpython3 -m pip install --upgrade pip\u001b[0m\n"
     ]
    }
   ],
   "source": [
    "# pip installs needed\n",
    "!pip install langgraph langchain-core langchain-community langchain_openai duckduckgo-search -U ddgs"
   ]
  },
  {
   "cell_type": "markdown",
   "id": "e83ada3c-0d0a-4ec3-a35a-c064d2c83bb2",
   "metadata": {
    "executionCancelledAt": null,
    "executionTime": 8,
    "lastExecutedAt": 1758064990923,
    "lastExecutedByKernel": "3254b685-5018-4f72-89a3-d9f49ec74668",
    "lastScheduledRunId": null,
    "lastSuccessfullyExecutedCode": "## Agent #1"
   },
   "source": [
    "# Agent #1"
   ]
  },
  {
   "cell_type": "code",
   "execution_count": 4,
   "id": "6c1344f3-5de5-44ca-a1a0-852af7462c62",
   "metadata": {
    "executionCancelledAt": null,
    "executionTime": 5234,
    "lastExecutedAt": 1758062786801,
    "lastExecutedByKernel": "3254b685-5018-4f72-89a3-d9f49ec74668",
    "lastScheduledRunId": null,
    "lastSuccessfullyExecutedCode": "# Import libraries\nfrom typing import TypedDict\nfrom langchain_core.messages import HumanMessage\nfrom langchain_openai import ChatOpenAI\nfrom langgraph.graph import StateGraph, START, END"
   },
   "outputs": [],
   "source": [
    "# Import libraries\n",
    "from typing import TypedDict\n",
    "from langchain_core.messages import HumanMessage\n",
    "from langchain_openai import ChatOpenAI\n",
    "from langgraph.graph import StateGraph, START, END"
   ]
  },
  {
   "cell_type": "code",
   "execution_count": 5,
   "id": "79e6d7ca-bf9d-4411-897d-07d06f5d4cc0",
   "metadata": {
    "executionCancelledAt": null,
    "executionTime": 51,
    "lastExecutedAt": 1758063021100,
    "lastExecutedByKernel": "3254b685-5018-4f72-89a3-d9f49ec74668",
    "lastScheduledRunId": null,
    "lastSuccessfullyExecutedCode": "# Typed Dict Example\n\nclass PersonDictionary(TypedDict):\n    name:str\n    age:int\n    is_student:bool\n\n# Create a typed dictionary\nour_person: PersonDictionary = {\n    \"name\": \"James\",\n    \"age\":    25,\n    \"is_student\": True\n}\nour_person #Just to check"
   },
   "outputs": [
    {
     "data": {
      "text/plain": [
       "{'name': 'James', 'age': 25, 'is_student': True}"
      ]
     },
     "execution_count": 5,
     "metadata": {},
     "output_type": "execute_result"
    }
   ],
   "source": [
    "# Typed Dict Example\n",
    "\n",
    "class PersonDictionary(TypedDict):\n",
    "    name:str\n",
    "    age:int\n",
    "    is_student:bool\n",
    "\n",
    "# Create a typed dictionary\n",
    "our_person: PersonDictionary = {\n",
    "    \"name\": \"James\",\n",
    "    \"age\":    25,\n",
    "    \"is_student\": True\n",
    "}\n",
    "our_person #Just to check"
   ]
  },
  {
   "cell_type": "code",
   "execution_count": 5,
   "id": "6ab90cdf-1306-4bf4-95bd-2049b19177d8",
   "metadata": {
    "executionCancelledAt": null,
    "executionTime": 1563,
    "lastExecutedAt": 1758071471304,
    "lastExecutedByKernel": "16e01e39-9b33-40c0-aec1-1f30e0e238fe",
    "lastScheduledRunId": null,
    "lastSuccessfullyExecutedCode": "# Include OpenAI API key here (including in the environment)\nimport os\nprint(os.getcwd())\nprint(os.listdir())\n# print(os.environ[\"OPENAI_API_KEY\"]) #To use with Datalab, create an environment variable\nopenai_api_key = os.environ[\"OPENAI_API_KEY\"]",
    "outputsMetadata": {
     "0": {
      "height": 59,
      "type": "stream"
     }
    }
   },
   "outputs": [
    {
     "name": "stdout",
     "output_type": "stream",
     "text": [
      "/work/files/workspace\n",
      "['notebook.ipynb']\n"
     ]
    }
   ],
   "source": [
    "# Include OpenAI API key here (including in the environment)\n",
    "import os\n",
    "print(os.getcwd())\n",
    "print(os.listdir())\n",
    "# print(os.environ[\"OPENAI_API_KEY\"]) #To use with Datalab, create an environment variable\n",
    "openai_api_key = os.environ[\"OPENAI_API_KEY\"]"
   ]
  },
  {
   "cell_type": "code",
   "execution_count": 6,
   "id": "244abe3f-97b5-4280-afc6-70c7f129be71",
   "metadata": {
    "executionCancelledAt": null,
    "executionTime": 50,
    "lastExecutedAt": 1758071471354,
    "lastExecutedByKernel": "16e01e39-9b33-40c0-aec1-1f30e0e238fe",
    "lastScheduledRunId": null,
    "lastSuccessfullyExecutedCode": "api_key = os.environ.get('OPENAI_API_KEY')\n\nif api_key:\n    print(f\"API Key: present\")\nelse:\n    print(\"API key not found in environment variables.\")",
    "outputsMetadata": {
     "0": {
      "height": 38,
      "type": "stream"
     }
    }
   },
   "outputs": [
    {
     "name": "stdout",
     "output_type": "stream",
     "text": [
      "API Key: present\n"
     ]
    }
   ],
   "source": [
    "api_key = os.environ.get('OPENAI_API_KEY')\n",
    "\n",
    "if api_key:\n",
    "    print(f\"API Key: present\")\n",
    "else:\n",
    "    print(\"API key not found in environment variables.\")"
   ]
  },
  {
   "cell_type": "code",
   "execution_count": 8,
   "id": "3daacba8-4993-4895-ae48-ab487cb78042",
   "metadata": {
    "executionCancelledAt": null,
    "executionTime": 429,
    "lastExecutedAt": 1758063050565,
    "lastExecutedByKernel": "3254b685-5018-4f72-89a3-d9f49ec74668",
    "lastScheduledRunId": null,
    "lastSuccessfullyExecutedCode": "# Define the state of the Agent\nclass AgentState(TypedDict):\n    user_message: HumanMessage\n\nllm = ChatOpenAI(model=\"gpt-5-nano\", temperature=0.7)\n# See model pricing (and names) here: https://platform.openai.com/docs/pricing?latest-pricing=standard\n\n#Create the first node - purpose is to pass the user's message to the LLM\ndef first_node(state: AgentState) -> AgentState:\n    response = llm.invoke(state[\"user_message\"])\n    print(f\"\\nAI: {response.content}\")\n    return state"
   },
   "outputs": [],
   "source": [
    "# Define the state of the Agent\n",
    "class AgentState(TypedDict):\n",
    "    user_message: HumanMessage\n",
    "\n",
    "llm = ChatOpenAI(model=\"gpt-5-nano\", temperature=0.7)\n",
    "# See model pricing (and names) here: https://platform.openai.com/docs/pricing?latest-pricing=standard\n",
    "\n",
    "#Create the first node - purpose is to pass the user's message to the LLM\n",
    "def first_node(state: AgentState) -> AgentState:\n",
    "    response = llm.invoke(state[\"user_message\"])\n",
    "    print(f\"\\nAI: {response.content}\")\n",
    "    return state"
   ]
  },
  {
   "cell_type": "code",
   "execution_count": 9,
   "id": "c431338e-ed79-4f2e-be49-33dbb3b5a6dd",
   "metadata": {
    "executionCancelledAt": null,
    "executionTime": 10,
    "lastExecutedAt": 1758063063862,
    "lastExecutedByKernel": "3254b685-5018-4f72-89a3-d9f49ec74668",
    "lastScheduledRunId": null,
    "lastSuccessfullyExecutedCode": "#Build a graph\ngraph= StateGraph(AgentState)\ngraph.add_node(\"node1\", first_node) # Name of the node on the graph, name of the underlying function\ngraph.add_edge(START, \"node1\")\ngraph.add_edge(\"node1\", END)\nagent = graph.compile()"
   },
   "outputs": [],
   "source": [
    "#Build a graph\n",
    "graph= StateGraph(AgentState)\n",
    "graph.add_node(\"node1\", first_node) # Name of the node on the graph, name of the underlying function\n",
    "graph.add_edge(START, \"node1\")\n",
    "graph.add_edge(\"node1\", END)\n",
    "agent = graph.compile()"
   ]
  },
  {
   "cell_type": "code",
   "execution_count": 10,
   "id": "5167cd10-2028-48db-81cd-1e9c821ae2e5",
   "metadata": {
    "executionCancelledAt": null,
    "executionTime": 57,
    "lastExecutedAt": 1758063067256,
    "lastExecutedByKernel": "3254b685-5018-4f72-89a3-d9f49ec74668",
    "lastScheduledRunId": null,
    "lastSuccessfullyExecutedCode": "from IPython.display import Image, display\ndisplay(Image(agent.get_graph().draw_mermaid_png()))"
   },
   "outputs": [
    {
     "data": {
      "image/png": "[encoded data removed]",
      "text/plain": [
       "<IPython.core.display.Image object>"
      ]
     },
     "metadata": {},
     "output_type": "display_data"
    }
   ],
   "source": [
    "from IPython.display import Image, display\n",
    "display(Image(agent.get_graph().draw_mermaid_png()))"
   ]
  },
  {
   "cell_type": "code",
   "execution_count": null,
   "id": "44511b7a-2231-4abd-807a-5699bf3ff38c",
   "metadata": {
    "executionCancelledAt": null,
    "executionTime": 1224066,
    "lastExecutedAt": 1758064300164,
    "lastExecutedByKernel": "3254b685-5018-4f72-89a3-d9f49ec74668",
    "lastScheduledRunId": null,
    "lastSuccessfullyExecutedCode": "while True:\n    user_input = input(\"Enter: \")\n    if user_input != \"exit\":\n        agent.invoke({\"user_message\": [HumanMessage(content=user_input)]})\n    else:\n        break",
    "outputsMetadata": {
     "0": {
      "height": 517,
      "type": "stream"
     }
    }
   },
   "outputs": [
    {
     "name": "stdout",
     "output_type": "stream",
     "text": [
      "Enter: Should I brush my teeth?\n",
      "\n",
      "AI: Yes. Brushing your teeth regularly is important for cavity prevention, gum health, and fresh breath.\n",
      "\n",
      "What to do:\n",
      "- Frequency and duration: Brush twice a day for about 2 minutes each time.\n",
      "- Toothpaste: Use fluoride toothpaste. For kids, use a smaller amount (pea-sized); adults use a normal pea-sized dab.\n",
      "- Technique: Use a soft-bristled brush. Gentle circular or short back-and-forth strokes on all surfaces (outer, inner, chewing). Don’t scrub hard. Brush your tongue or use a tongue scraper too.\n",
      "- Surfaces to clean: All teeth surfaces, plus the gumline. Don’t forget the back teeth.\n",
      "- After brushing: Spit out excess toothpaste and, if possible, don’t rinse heavily with water right away so fluoride stays on your teeth a bit longer.\n",
      "- Brush replacement: Replace your toothbrush every 3–4 months or sooner if the bristles fray. If you have braces or dental work, you may need to replace more often.\n",
      "\n",
      "Extras that help:\n",
      "- Floss daily to clean between teeth.\n",
      "- Mouthwash is optional. If you use it, choose fluoride-containing and alcohol-free if you have sensitivity.\n",
      "- Limit sugary/acidic foods and drinks; rinse with water after consuming them.\n",
      "- Visit a dentist regularly (usually every 6 months) for checkups and cleanings.\n",
      "\n",
      "If you have specific needs (braces, sensitive teeth, gum bleeding, or a history of cavities), I can tailor the routine. Do you want tips for a particular situation or more practical steps for your current routine?\n",
      "Enter: Who made you?\n",
      "\n",
      "AI: I was created by OpenAI, a research organization. I’m based on the GPT family of models and were trained by a team of engineers and researchers using a mix of licensed data, data created by human trainers, and publicly available data. If you want, I can share more about how I’m trained or how I work.\n",
      "Enter: "
     ]
    },
    {
     "ename": "KeyboardInterrupt",
     "evalue": "Interrupted by user",
     "output_type": "error",
     "traceback": [
      "\u001b[0;31m---------------------------------------------------------------------------\u001b[0m",
      "\u001b[0;31mKeyboardInterrupt\u001b[0m                         Traceback (most recent call last)",
      "Cell \u001b[0;32mIn[11], line 2\u001b[0m\n\u001b[1;32m      1\u001b[0m \u001b[38;5;28;01mwhile\u001b[39;00m \u001b[38;5;28;01mTrue\u001b[39;00m:\n\u001b[0;32m----> 2\u001b[0m     user_input \u001b[38;5;241m=\u001b[39m \u001b[38;5;28;43minput\u001b[39;49m\u001b[43m(\u001b[49m\u001b[38;5;124;43m\"\u001b[39;49m\u001b[38;5;124;43mEnter: \u001b[39;49m\u001b[38;5;124;43m\"\u001b[39;49m\u001b[43m)\u001b[49m\n\u001b[1;32m      3\u001b[0m     \u001b[38;5;28;01mif\u001b[39;00m user_input \u001b[38;5;241m!=\u001b[39m \u001b[38;5;124m\"\u001b[39m\u001b[38;5;124mexit\u001b[39m\u001b[38;5;124m\"\u001b[39m:\n\u001b[1;32m      4\u001b[0m         agent\u001b[38;5;241m.\u001b[39minvoke({\u001b[38;5;124m\"\u001b[39m\u001b[38;5;124muser_message\u001b[39m\u001b[38;5;124m\"\u001b[39m: [HumanMessage(content\u001b[38;5;241m=\u001b[39muser_input)]})\n",
      "File \u001b[0;32m/usr/local/lib/python3.10/dist-packages/ipykernel/kernelbase.py:1282\u001b[0m, in \u001b[0;36mKernel.raw_input\u001b[0;34m(self, prompt)\u001b[0m\n\u001b[1;32m   1280\u001b[0m     msg \u001b[38;5;241m=\u001b[39m \u001b[38;5;124m\"\u001b[39m\u001b[38;5;124mraw_input was called, but this frontend does not support input requests.\u001b[39m\u001b[38;5;124m\"\u001b[39m\n\u001b[1;32m   1281\u001b[0m     \u001b[38;5;28;01mraise\u001b[39;00m StdinNotImplementedError(msg)\n\u001b[0;32m-> 1282\u001b[0m \u001b[38;5;28;01mreturn\u001b[39;00m \u001b[38;5;28;43mself\u001b[39;49m\u001b[38;5;241;43m.\u001b[39;49m\u001b[43m_input_request\u001b[49m\u001b[43m(\u001b[49m\n\u001b[1;32m   1283\u001b[0m \u001b[43m    \u001b[49m\u001b[38;5;28;43mstr\u001b[39;49m\u001b[43m(\u001b[49m\u001b[43mprompt\u001b[49m\u001b[43m)\u001b[49m\u001b[43m,\u001b[49m\n\u001b[1;32m   1284\u001b[0m \u001b[43m    \u001b[49m\u001b[38;5;28;43mself\u001b[39;49m\u001b[38;5;241;43m.\u001b[39;49m\u001b[43m_parent_ident\u001b[49m\u001b[43m[\u001b[49m\u001b[38;5;124;43m\"\u001b[39;49m\u001b[38;5;124;43mshell\u001b[39;49m\u001b[38;5;124;43m\"\u001b[39;49m\u001b[43m]\u001b[49m\u001b[43m,\u001b[49m\n\u001b[1;32m   1285\u001b[0m \u001b[43m    \u001b[49m\u001b[38;5;28;43mself\u001b[39;49m\u001b[38;5;241;43m.\u001b[39;49m\u001b[43mget_parent\u001b[49m\u001b[43m(\u001b[49m\u001b[38;5;124;43m\"\u001b[39;49m\u001b[38;5;124;43mshell\u001b[39;49m\u001b[38;5;124;43m\"\u001b[39;49m\u001b[43m)\u001b[49m\u001b[43m,\u001b[49m\n\u001b[1;32m   1286\u001b[0m \u001b[43m    \u001b[49m\u001b[43mpassword\u001b[49m\u001b[38;5;241;43m=\u001b[39;49m\u001b[38;5;28;43;01mFalse\u001b[39;49;00m\u001b[43m,\u001b[49m\n\u001b[1;32m   1287\u001b[0m \u001b[43m\u001b[49m\u001b[43m)\u001b[49m\n",
      "File \u001b[0;32m/usr/local/lib/python3.10/dist-packages/ipykernel/kernelbase.py:1325\u001b[0m, in \u001b[0;36mKernel._input_request\u001b[0;34m(self, prompt, ident, parent, password)\u001b[0m\n\u001b[1;32m   1322\u001b[0m \u001b[38;5;28;01mexcept\u001b[39;00m \u001b[38;5;167;01mKeyboardInterrupt\u001b[39;00m:\n\u001b[1;32m   1323\u001b[0m     \u001b[38;5;66;03m# re-raise KeyboardInterrupt, to truncate traceback\u001b[39;00m\n\u001b[1;32m   1324\u001b[0m     msg \u001b[38;5;241m=\u001b[39m \u001b[38;5;124m\"\u001b[39m\u001b[38;5;124mInterrupted by user\u001b[39m\u001b[38;5;124m\"\u001b[39m\n\u001b[0;32m-> 1325\u001b[0m     \u001b[38;5;28;01mraise\u001b[39;00m \u001b[38;5;167;01mKeyboardInterrupt\u001b[39;00m(msg) \u001b[38;5;28;01mfrom\u001b[39;00m\u001b[38;5;250m \u001b[39m\u001b[38;5;28;01mNone\u001b[39;00m\n\u001b[1;32m   1326\u001b[0m \u001b[38;5;28;01mexcept\u001b[39;00m \u001b[38;5;167;01mException\u001b[39;00m:\n\u001b[1;32m   1327\u001b[0m     \u001b[38;5;28mself\u001b[39m\u001b[38;5;241m.\u001b[39mlog\u001b[38;5;241m.\u001b[39mwarning(\u001b[38;5;124m\"\u001b[39m\u001b[38;5;124mInvalid Message:\u001b[39m\u001b[38;5;124m\"\u001b[39m, exc_info\u001b[38;5;241m=\u001b[39m\u001b[38;5;28;01mTrue\u001b[39;00m)\n",
      "\u001b[0;31mKeyboardInterrupt\u001b[0m: Interrupted by user"
     ]
    }
   ],
   "source": [
    "# Agent #1 \n",
    "## Very basic - created in an infinite loop for demonstration purposes\n",
    "while True:\n",
    "    user_input = input(\"Enter: \")\n",
    "    if user_input != \"exit\":\n",
    "        agent.invoke({\"user_message\": [HumanMessage(content=user_input)]})\n",
    "    else:\n",
    "        break"
   ]
  },
  {
   "cell_type": "markdown",
   "id": "038fd548-7c49-456b-9b1f-d5f5b8459960",
   "metadata": {
    "executionCancelledAt": null,
    "executionTime": null,
    "lastExecutedAt": null,
    "lastExecutedByKernel": null,
    "lastScheduledRunId": null,
    "lastSuccessfullyExecutedCode": null,
    "outputsMetadata": {
     "0": {
      "height": 38,
      "type": "stream"
     }
    }
   },
   "source": [
    "# Agent #2"
   ]
  },
  {
   "cell_type": "code",
   "execution_count": 19,
   "id": "840e69e9-35e8-446d-9160-1fa74611317a",
   "metadata": {
    "executionCancelledAt": null,
    "executionTime": 9,
    "lastExecutedAt": 1758065040804,
    "lastExecutedByKernel": "3254b685-5018-4f72-89a3-d9f49ec74668",
    "lastScheduledRunId": null,
    "lastSuccessfullyExecutedCode": "#Agent #2\n\n# Import additional libraries in addition to those in Cell #4\n# Import libraries\nimport os\nfrom typing import TypedDict, List, Union\nfrom langchain_core.messages import HumanMessage, AIMessage, SystemMessage\nfrom langchain_openai import ChatOpenAI\nfrom langgraph.graph import StateGraph, START, END"
   },
   "outputs": [],
   "source": [
    "#Agent #2\n",
    "# (This agent creates memory by writing to a text file [the text stays in memory in the current version])\n",
    "\n",
    "# Import additional libraries in addition to those in Cell #4\n",
    "# Import libraries\n",
    "import os\n",
    "from typing import TypedDict, List, Union\n",
    "from langchain_core.messages import HumanMessage, AIMessage, SystemMessage\n",
    "from langchain_openai import ChatOpenAI\n",
    "from langgraph.graph import StateGraph, START, END\n",
    "\n",
    "# NOTE: SystemMessage applies to every single response"
   ]
  },
  {
   "cell_type": "code",
   "execution_count": 13,
   "id": "5c9262ac-1f91-4fef-b48c-cd759b79406b",
   "metadata": {
    "executionCancelledAt": null,
    "executionTime": 8,
    "lastExecutedAt": 1758064518579,
    "lastExecutedByKernel": "3254b685-5018-4f72-89a3-d9f49ec74668",
    "lastScheduledRunId": null,
    "lastSuccessfullyExecutedCode": "def myfunction(value: Union[int, float]):\n    return value"
   },
   "outputs": [],
   "source": [
    "def myfunction(value: Union[int, float]):\n",
    "    return value"
   ]
  },
  {
   "cell_type": "code",
   "execution_count": 24,
   "id": "23f97580-e843-4128-b0c4-aece022067e4",
   "metadata": {
    "executionCancelledAt": null,
    "executionTime": 51,
    "lastExecutedAt": 1758066593675,
    "lastExecutedByKernel": "3254b685-5018-4f72-89a3-d9f49ec74668",
    "lastScheduledRunId": null,
    "lastSuccessfullyExecutedCode": "class AgentState(TypedDict):\n    messages: List[Union[HumanMessage, AIMessage, SystemMessage]]\n\nllm = ChatOpenAI(model=\"gpt-5-nano\", temperature=0.7)\n# See model pricing (and names) here: https://platform.openai.com/docs/pricing?latest-pricing=standard\n\n# This is the list we will use to store our conversation\nconversation_history = [SystemMessage(content=\"You are an AI assistant that speaks like a pirate. Answer all of my questions properly.\")]\n\n#Create the a new node - purpose is to pass the user's message to the LLM\ndef our_processing_node(state: AgentState) -> AgentState:\n    response = llm.invoke(state[\"messages\"])\n    state[\"messages\"].append(AIMessage(content = response.content)) #This creates the 'memory'\n    print(f\"\\nAI: {response.content}\")\n    print(f\"\\nOur current state looks like: {state['messages']}\")\n    return state"
   },
   "outputs": [],
   "source": [
    "class AgentState(TypedDict):\n",
    "    messages: List[Union[HumanMessage, AIMessage, SystemMessage]]\n",
    "\n",
    "llm = ChatOpenAI(model=\"gpt-5-nano\", temperature=0.7)\n",
    "# See model pricing (and names) here: https://platform.openai.com/docs/pricing?latest-pricing=standard\n",
    "\n",
    "# This is the list we will use to store our conversation\n",
    "conversation_history = [SystemMessage(content=\"You are an AI assistant that speaks like a pirate. Answer all of my questions properly.\")]\n",
    "\n",
    "#Create the a new node - purpose is to pass the user's message to the LLM\n",
    "def our_processing_node(state: AgentState) -> AgentState:\n",
    "    response = llm.invoke(state[\"messages\"])\n",
    "    state[\"messages\"].append(AIMessage(content = response.content)) #This creates the 'memory'\n",
    "    print(f\"\\nAI: {response.content}\")\n",
    "    print(f\"\\nOur current state looks like: {state['messages']}\") # including for debugging\n",
    "    return state"
   ]
  },
  {
   "cell_type": "code",
   "execution_count": 21,
   "id": "8b708e46-d779-49ed-a185-a3b8e391f761",
   "metadata": {
    "executionCancelledAt": null,
    "executionTime": 10,
    "lastExecutedAt": 1758065396618,
    "lastExecutedByKernel": "3254b685-5018-4f72-89a3-d9f49ec74668",
    "lastScheduledRunId": null,
    "lastSuccessfullyExecutedCode": "#Build a graph to represent the 2nd Agent\ngraph= StateGraph(AgentState)\ngraph.add_node(\"llm_node\", our_processing_node) # Name of the node on the graph, name of the underlying function\ngraph.add_edge(START, \"llm_node\")\ngraph.add_edge(\"llm_node\", END)\nagent = graph.compile()"
   },
   "outputs": [],
   "source": [
    "#Build a graph to represent the 2nd Agent\n",
    "graph= StateGraph(AgentState)\n",
    "graph.add_node(\"llm_node\", our_processing_node) # Name of the node on the graph, name of the underlying function\n",
    "graph.add_edge(START, \"llm_node\")\n",
    "graph.add_edge(\"llm_node\", END)\n",
    "agent = graph.compile()"
   ]
  },
  {
   "cell_type": "code",
   "execution_count": 22,
   "id": "fd17a294-ddf3-46fb-be72-5a20cb9e8a2e",
   "metadata": {
    "executionCancelledAt": null,
    "executionTime": 52,
    "lastExecutedAt": 1758065540172,
    "lastExecutedByKernel": "3254b685-5018-4f72-89a3-d9f49ec74668",
    "lastScheduledRunId": null,
    "lastSuccessfullyExecutedCode": "from IPython.display import Image, display\ndisplay(Image(agent.get_graph().draw_mermaid_png()))"
   },
   "outputs": [
    {
     "data": {
      "image/png": "[encoded data removed]",
      "text/plain": [
       "<IPython.core.display.Image object>"
      ]
     },
     "metadata": {},
     "output_type": "display_data"
    }
   ],
   "source": [
    "from IPython.display import Image, display\n",
    "display(Image(agent.get_graph().draw_mermaid_png()))"
   ]
  },
  {
   "cell_type": "code",
   "execution_count": null,
   "id": "bd199f8a-22cb-4377-b752-62e87e5a3e6b",
   "metadata": {
    "collapsed": true,
    "executionCancelledAt": null,
    "executionTime": 110481,
    "jupyter": {
     "outputs_hidden": true,
     "source_hidden": false
    },
    "lastExecutedAt": 1758066784332,
    "lastExecutedByKernel": "3254b685-5018-4f72-89a3-d9f49ec74668",
    "lastScheduledRunId": null,
    "lastSuccessfullyExecutedCode": "# Run Agent #2\nwhile True:\n    user_input = input(\"Ask a question: \")\n    conversation_history.append(HumanMessage(content = user_input))\n    result = agent.invoke({\"messages\": conversation_history})\n    conversation_history = result[\"messages\"]\n    # break  #Including for debugging",
    "outputsMetadata": {
     "0": {
      "height": 565,
      "type": "stream"
     }
    }
   },
   "outputs": [
    {
     "name": "stdout",
     "output_type": "stream",
     "text": [
      "Ask a question: Hi, my name is Rich and I want to know if I should continue to learn about using LLMs.\n",
      "\n",
      "AI: Arrr, Rich! Ye’ve got good compass iron in yer eye shipshape: keep chartin’ the seas o’ LLMs. Here be why ye should keep learnin’ and a rough plan to set ye on course.\n",
      "\n",
      "Why ye should keep learnin’ about LLMs\n",
      "- The sails are ever billowin’: LLMs are shifting how many trades do their work, from coding to writing to data wranglin’. If ye learn the ropes, ye’ll have a skill that stays valuable.\n",
      "- It’s a mighty low-barrier-to-start: ye can tinker with APIs, prompts, and small apps without a fleet o’ gold.\n",
      "- It pays to be shipshape on safety and ethics: knowing how to handle bias, hallucinations, and guardrails is a prized cargo.\n",
      "- It unlocks practical power: automate drudgework, build chatty assistants, summarize scrolls, search fleets o’ docs, and more.\n",
      "\n",
      "A quick gut-check: what be yer goal?\n",
      "- Do ye want to build things (apps, tools, chatbots)?\n",
      "- Do ye want to optimize workflows in a job or business?\n",
      "- Do ye want to study the theory for research or teaching?\n",
      "\n",
      "If ye want a plan, here be a simple 4-week voyage (with optional sails if ye crave deeper waters):\n",
      "\n",
      "4-week plan to get ye shipshape\n",
      "Week 1: Foundations and hands-on tinkering\n",
      "- Learn the core terms: tokens, prompts, completions, context windows, safety.\n",
      "- Do 3 small prompt experiments: simple Q&A, a rewrite task, and a structured data extraction.\n",
      "- Pick a single API (OpenAI, Cohere, or an open-source model) and try a basic chat prompt.\n",
      "Week 2: Prompt engineering and reliability\n",
      "- Study prompt patterns: system prompts, few-shot examples, chain-of-thought prompts, and role-play prompts.\n",
      "- Build a few prompts for common tasks in yer field (summarizing reports, extracting key actions, simple reasoning).\n",
      "- Start tracking results: successes, failures, and any hallucinations.\n",
      "Week 3: Tools and orchestration\n",
      "- Try a small toolkit like LangChain or a simple wrapper to chain prompts (input -> tool -> output).\n",
      "- Build a tiny “mini-app”: a prompt-driven assistant that fetches data, summarizes it, and presents a short answer.\n",
      "- Learn about safety guardrails: redact sensitive data, avoid unsafe prompts, and log decisions.\n",
      "Week 4: Project and evaluation\n",
      "- Pick a real-use case: a chat helper for yer hobby or work, a document summarizer, or a data lookup assistant.\n",
      "- Build, test, and iterate. Define success metrics (accuracy, usefulness, safety events).\n",
      "- Document what ye learned and plan next steps.\n",
      "\n",
      "If ye want deeper waters (optional 5–6 weeks)\n",
      "- Deep dive into model behavior: bias, reliability, drift, and evaluation methods.\n",
      "- Learn about memory and context management, retrieval-augmented generation (RAG), and data provenance.\n",
      "- Explore local/offline model options or open-source stacks (for more control).\n",
      "\n",
      "Things ye can do today (quick-start actions)\n",
      "- Pick a goal: “build a tiny helper for summarizing documents” or “a chatbot that answers questions about my work.”\n",
      "- Sign up for a free or trial API and run a couple of prompts gaily: ask for a summary, then compare several rewrites.\n",
      "- Try a simple prompt pattern: system prompt to set role, a few-shot example, then your question.\n",
      "- Note down what worked and what didn’t, especially any off-the-rails answers.\n",
      "\n",
      "What would ye like to focus on?\n",
      "- If ye tell me yer field or what ye hope to build or optimize, I’ll tailor a 2–4 week plan geared to yer sails and crew.\n",
      "\n",
      "Fair winds, Rich. Shall we chart a course tailored to yer goals, matey?\n",
      "Ask a question: "
     ]
    },
    {
     "ename": "KeyboardInterrupt",
     "evalue": "Interrupted by user",
     "output_type": "error",
     "traceback": [
      "\u001b[0;31m---------------------------------------------------------------------------\u001b[0m",
      "\u001b[0;31mKeyboardInterrupt\u001b[0m                         Traceback (most recent call last)",
      "Cell \u001b[0;32mIn[25], line 3\u001b[0m\n\u001b[1;32m      1\u001b[0m \u001b[38;5;66;03m# Run Agent #2\u001b[39;00m\n\u001b[1;32m      2\u001b[0m \u001b[38;5;28;01mwhile\u001b[39;00m \u001b[38;5;28;01mTrue\u001b[39;00m:\n\u001b[0;32m----> 3\u001b[0m     user_input \u001b[38;5;241m=\u001b[39m \u001b[38;5;28;43minput\u001b[39;49m\u001b[43m(\u001b[49m\u001b[38;5;124;43m\"\u001b[39;49m\u001b[38;5;124;43mAsk a question: \u001b[39;49m\u001b[38;5;124;43m\"\u001b[39;49m\u001b[43m)\u001b[49m\n\u001b[1;32m      4\u001b[0m     conversation_history\u001b[38;5;241m.\u001b[39mappend(HumanMessage(content \u001b[38;5;241m=\u001b[39m user_input))\n\u001b[1;32m      5\u001b[0m     result \u001b[38;5;241m=\u001b[39m agent\u001b[38;5;241m.\u001b[39minvoke({\u001b[38;5;124m\"\u001b[39m\u001b[38;5;124mmessages\u001b[39m\u001b[38;5;124m\"\u001b[39m: conversation_history})\n",
      "File \u001b[0;32m/usr/local/lib/python3.10/dist-packages/ipykernel/kernelbase.py:1282\u001b[0m, in \u001b[0;36mKernel.raw_input\u001b[0;34m(self, prompt)\u001b[0m\n\u001b[1;32m   1280\u001b[0m     msg \u001b[38;5;241m=\u001b[39m \u001b[38;5;124m\"\u001b[39m\u001b[38;5;124mraw_input was called, but this frontend does not support input requests.\u001b[39m\u001b[38;5;124m\"\u001b[39m\n\u001b[1;32m   1281\u001b[0m     \u001b[38;5;28;01mraise\u001b[39;00m StdinNotImplementedError(msg)\n\u001b[0;32m-> 1282\u001b[0m \u001b[38;5;28;01mreturn\u001b[39;00m \u001b[38;5;28;43mself\u001b[39;49m\u001b[38;5;241;43m.\u001b[39;49m\u001b[43m_input_request\u001b[49m\u001b[43m(\u001b[49m\n\u001b[1;32m   1283\u001b[0m \u001b[43m    \u001b[49m\u001b[38;5;28;43mstr\u001b[39;49m\u001b[43m(\u001b[49m\u001b[43mprompt\u001b[49m\u001b[43m)\u001b[49m\u001b[43m,\u001b[49m\n\u001b[1;32m   1284\u001b[0m \u001b[43m    \u001b[49m\u001b[38;5;28;43mself\u001b[39;49m\u001b[38;5;241;43m.\u001b[39;49m\u001b[43m_parent_ident\u001b[49m\u001b[43m[\u001b[49m\u001b[38;5;124;43m\"\u001b[39;49m\u001b[38;5;124;43mshell\u001b[39;49m\u001b[38;5;124;43m\"\u001b[39;49m\u001b[43m]\u001b[49m\u001b[43m,\u001b[49m\n\u001b[1;32m   1285\u001b[0m \u001b[43m    \u001b[49m\u001b[38;5;28;43mself\u001b[39;49m\u001b[38;5;241;43m.\u001b[39;49m\u001b[43mget_parent\u001b[49m\u001b[43m(\u001b[49m\u001b[38;5;124;43m\"\u001b[39;49m\u001b[38;5;124;43mshell\u001b[39;49m\u001b[38;5;124;43m\"\u001b[39;49m\u001b[43m)\u001b[49m\u001b[43m,\u001b[49m\n\u001b[1;32m   1286\u001b[0m \u001b[43m    \u001b[49m\u001b[43mpassword\u001b[49m\u001b[38;5;241;43m=\u001b[39;49m\u001b[38;5;28;43;01mFalse\u001b[39;49;00m\u001b[43m,\u001b[49m\n\u001b[1;32m   1287\u001b[0m \u001b[43m\u001b[49m\u001b[43m)\u001b[49m\n",
      "File \u001b[0;32m/usr/local/lib/python3.10/dist-packages/ipykernel/kernelbase.py:1325\u001b[0m, in \u001b[0;36mKernel._input_request\u001b[0;34m(self, prompt, ident, parent, password)\u001b[0m\n\u001b[1;32m   1322\u001b[0m \u001b[38;5;28;01mexcept\u001b[39;00m \u001b[38;5;167;01mKeyboardInterrupt\u001b[39;00m:\n\u001b[1;32m   1323\u001b[0m     \u001b[38;5;66;03m# re-raise KeyboardInterrupt, to truncate traceback\u001b[39;00m\n\u001b[1;32m   1324\u001b[0m     msg \u001b[38;5;241m=\u001b[39m \u001b[38;5;124m\"\u001b[39m\u001b[38;5;124mInterrupted by user\u001b[39m\u001b[38;5;124m\"\u001b[39m\n\u001b[0;32m-> 1325\u001b[0m     \u001b[38;5;28;01mraise\u001b[39;00m \u001b[38;5;167;01mKeyboardInterrupt\u001b[39;00m(msg) \u001b[38;5;28;01mfrom\u001b[39;00m\u001b[38;5;250m \u001b[39m\u001b[38;5;28;01mNone\u001b[39;00m\n\u001b[1;32m   1326\u001b[0m \u001b[38;5;28;01mexcept\u001b[39;00m \u001b[38;5;167;01mException\u001b[39;00m:\n\u001b[1;32m   1327\u001b[0m     \u001b[38;5;28mself\u001b[39m\u001b[38;5;241m.\u001b[39mlog\u001b[38;5;241m.\u001b[39mwarning(\u001b[38;5;124m\"\u001b[39m\u001b[38;5;124mInvalid Message:\u001b[39m\u001b[38;5;124m\"\u001b[39m, exc_info\u001b[38;5;241m=\u001b[39m\u001b[38;5;28;01mTrue\u001b[39;00m)\n",
      "\u001b[0;31mKeyboardInterrupt\u001b[0m: Interrupted by user"
     ]
    }
   ],
   "source": [
    "# Run Agent #2\n",
    "while True:\n",
    "    user_input = input(\"Ask a question: \")\n",
    "    conversation_history.append(HumanMessage(content = user_input))\n",
    "    result = agent.invoke({\"messages\": conversation_history})\n",
    "    conversation_history = result[\"messages\"]\n",
    "    # break  #Including for debugging"
   ]
  },
  {
   "cell_type": "markdown",
   "id": "f6224c94-707d-45f0-a703-94bb35dc0321",
   "metadata": {},
   "source": [
    "### BUT, including memory above means more tokens will be used and it will cost more. A solution could be to include only the last 5 messages (recency bias)."
   ]
  },
  {
   "cell_type": "markdown",
   "id": "472e1eb1-00c8-4bf9-8601-1711664c56f1",
   "metadata": {},
   "source": [
    "# Agent #3"
   ]
  },
  {
   "cell_type": "code",
   "execution_count": 15,
   "id": "9e459a88-2b26-482e-962a-99f8945eb7c9",
   "metadata": {
    "executionCancelledAt": null,
    "executionTime": 49,
    "lastExecutedAt": 1758073897569,
    "lastExecutedByKernel": "16e01e39-9b33-40c0-aec1-1f30e0e238fe",
    "lastScheduledRunId": null,
    "lastSuccessfullyExecutedCode": "# Agent #3\n# (built with In-built tools)\n# This is a true 'agent'\n\nfrom typing import TypedDict, Annotated, Sequence\nfrom langchain_core.messages import HumanMessage, AIMessage, SystemMessage, BaseMessage\n# BaseMessage is like the parent class\nfrom langchain_openai import ChatOpenAI\nfrom langgraph.graph import StateGraph, END\nfrom langgraph.graph.message import add_messages\nfrom langgraph.prebuilt import ToolNode\nfrom langchain_community.tools import DuckDuckGoSearchRun"
   },
   "outputs": [],
   "source": [
    "# Agent #3\n",
    "# (built with In-built tools)\n",
    "# This is a true 'agent'\n",
    "# It's called a 'ReAct Agent'. It stands for reasoning and acting agent.\n",
    "\n",
    "from typing import TypedDict, Annotated, Sequence\n",
    "from langchain_core.messages import HumanMessage, AIMessage, SystemMessage, BaseMessage\n",
    "# BaseMessage is like the parent class\n",
    "from langchain_openai import ChatOpenAI\n",
    "from langgraph.graph import StateGraph, END\n",
    "from langgraph.graph.message import add_messages\n",
    "from langgraph.prebuilt import ToolNode\n",
    "from langchain_community.tools import DuckDuckGoSearchRun"
   ]
  },
  {
   "cell_type": "code",
   "execution_count": 8,
   "id": "097e10ac-b763-4e02-9f62-486d358584f4",
   "metadata": {
    "executionCancelledAt": null,
    "executionTime": 47,
    "lastExecutedAt": 1758072064149,
    "lastExecutedByKernel": "16e01e39-9b33-40c0-aec1-1f30e0e238fe",
    "lastScheduledRunId": null,
    "lastSuccessfullyExecutedCode": "x: Annotated[int, \"age\"] = 20\n# Note: Annotated allows us to include extra information with a variable"
   },
   "outputs": [],
   "source": [
    "x: Annotated[int, \"age\"] = 20\n",
    "# Note: Annotated allows us to include extra information with a variable"
   ]
  },
  {
   "cell_type": "code",
   "execution_count": 9,
   "id": "3d6c1342-e7b8-45fa-be4e-9f2568094da3",
   "metadata": {
    "executionCancelledAt": null,
    "executionTime": 47,
    "lastExecutedAt": 1758072066401,
    "lastExecutedByKernel": "16e01e39-9b33-40c0-aec1-1f30e0e238fe",
    "lastScheduledRunId": null,
    "lastSuccessfullyExecutedCode": "numbers: Sequence[int] = [1,2,3]\n#Note: A Sequence allows read-only access to any ordered data type (i.e. list, tuple, str). It is used when you only need to read data, not modify it.\n#Note: a list is mutable. It's an ordered data type, but you can change it."
   },
   "outputs": [],
   "source": [
    "numbers: Sequence[int] = [1,2,3]\n",
    "#Note: A Sequence allows read-only access to any ordered data type (i.e. list, tuple, str). It is used when you only need to read data, not modify it.\n",
    "#Note: a list is mutable. It's an ordered data type, but you can change it."
   ]
  },
  {
   "cell_type": "code",
   "execution_count": 12,
   "id": "ee91ddfe-4118-40f7-8afe-7fe0b84f5d45",
   "metadata": {
    "executionCancelledAt": null,
    "executionTime": null,
    "lastExecutedAt": null,
    "lastExecutedByKernel": null,
    "lastScheduledRunId": null,
    "lastSuccessfullyExecutedCode": null,
    "outputsMetadata": {
     "0": {
      "height": 517,
      "type": "stream"
     }
    }
   },
   "outputs": [
    {
     "name": "stdout",
     "output_type": "stream",
     "text": [
      "\n",
      "AI:  content='The Kansas City Chiefs won Super Bowl LVIII (played February 11, 2024, in Las Vegas), defeating the San Francisco 49ers 25–22. Patrick Mahomes was named the Super Bowl MVP.' additional_kwargs={'refusal': None} response_metadata={'token_usage': {'completion_tokens': 1078, 'prompt_tokens': 16, 'total_tokens': 1094, 'completion_tokens_details': {'accepted_prediction_tokens': 0, 'audio_tokens': 0, 'reasoning_tokens': 1024, 'rejected_prediction_tokens': 0}, 'prompt_tokens_details': {'audio_tokens': 0, 'cached_tokens': 0}}, 'model_name': 'gpt-5-nano-2025-08-07', 'system_fingerprint': None, 'id': 'chatcmpl-CGbFaD7RGsFEHUcXXTIwYDGUwPILH', 'service_tier': 'default', 'finish_reason': 'stop', 'logprobs': None} id='run--1469a072-762a-4cc6-bd3f-38a8f54a17be-0' usage_metadata={'input_tokens': 16, 'output_tokens': 1078, 'total_tokens': 1094, 'input_token_details': {'audio': 0, 'cache_read': 0}, 'output_token_details': {'audio': 0, 'reasoning': 1024}}\n",
      "\n",
      "SEARCH:  Feb 16, 2025 — Super Bowl LIX was an American football championship game played between the National Football Conference (NFC) champion Philadelphia Eagles and the ... Dallas' Larry Brown , a 12th-round draft pick, who was still grieving the death of his infant son two and a half months prior, 6 7 became the first ... The Eagles were trying to win their first NFL title since 1960 and the first championship for the city of Philadelphia since Moses Malone 's \"fo', fi ... Feb 9, 2025 — Patrick Mahomes and company took down the 49ers 25-22 in overtime, leading to the team's second-straight Super Bowl victory. Feb 9, 2025 — Who won the Super Bowl in 2024? The Chiefs came out on top in Super Bowl 58 against the 49ers with a 25-22 overtime win at Allegiant Stadium in Las Vegas.\n"
     ]
    }
   ],
   "source": [
    "# Use the In-built DuckDuckGo search tool\n",
    "query = \"Who won the 2024 NFL Superbowl?\"\n",
    "\n",
    "llm = ChatOpenAI(model=\"gpt-5-nano\", temperature=0.7)\n",
    "print(\"\\nAI: \", llm.invoke(query))\n",
    "\n",
    "search = DuckDuckGoSearchRun() # Search tool\n",
    "print(\"\\nSEARCH: \", search.invoke(query))"
   ]
  },
  {
   "cell_type": "code",
   "execution_count": 29,
   "id": "807a6399-c87f-4b24-8183-3b9241f5a298",
   "metadata": {
    "executionCancelledAt": null,
    "executionTime": 13,
    "lastExecutedAt": 1758075993534,
    "lastExecutedByKernel": "16e01e39-9b33-40c0-aec1-1f30e0e238fe",
    "lastScheduledRunId": null,
    "lastSuccessfullyExecutedCode": "class AgentState(TypedDict):\n    messages: Annotated[Sequence[BaseMessage], add_messages] # Reducer Function - essentially allows for the addition of messages without getting deleted AND IT ADDS A BIT MORE INFORMATION\n\ntools = [DuckDuckGoSearchRun()] #We create a list of tools we want our Agent to have access to\n\nllm = ChatOpenAI(model = \"gpt-5-nano\").bind_tools(tools) #How to give the LLM knowledge about these tools\n\n#Below is a node\ndef model_call(state: AgentState) -> AgentState:\n    system_prompt = SystemMessage(content = \n            \"You are my AI assistant, please answer my query to the best of your ability.\")\n    response = llm.invoke([system_prompt] + state[\"messages\"]) #SEnding both the SystemMessage and the current state \n    return {\"messages\": [response]}\n    "
   },
   "outputs": [],
   "source": [
    "class AgentState(TypedDict):\n",
    "    messages: Annotated[Sequence[BaseMessage], add_messages] # Reducer Function - essentially allows for the addition of messages without getting deleted AND IT ADDS A BIT MORE INFORMATION\n",
    "\n",
    "tools = [DuckDuckGoSearchRun()] #We create a list of tools we want our Agent to have access\n",
    "# There are many more tools available. See LangChain Documentation/Tools/Toolkits (there are both free and paid tools)\n",
    "\n",
    "llm = ChatOpenAI(model = \"gpt-5-nano\").bind_tools(tools) #How to give the LLM knowledge about/from the tools defined above\n",
    "\n",
    "#Below is a node\n",
    "def model_call(state: AgentState) -> AgentState:\n",
    "    system_prompt = SystemMessage(content = \n",
    "            \"You are my AI assistant, please answer my query to the best of your ability.\")\n",
    "    response = llm.invoke([system_prompt] + state[\"messages\"]) #SEnding both the SystemMessage and the current state \n",
    "    return {\"messages\": [response]}\n",
    "    "
   ]
  },
  {
   "cell_type": "code",
   "execution_count": 30,
   "id": "03c879a4-0675-4d37-be5a-455f0a98d4ec",
   "metadata": {
    "executionCancelledAt": null,
    "executionTime": 50,
    "lastExecutedAt": 1758076012945,
    "lastExecutedByKernel": "16e01e39-9b33-40c0-aec1-1f30e0e238fe",
    "lastScheduledRunId": null,
    "lastSuccessfullyExecutedCode": "#Underlying action behind the conditional edge\ndef should_continue(state: AgentState):\n    messages = state[\"messages\"] #Copies the latest state into the 'message' variable \n    last_message = messages[-1] #only looks at the last message\n\n    # This code checks if there is any further tool calling required in the last message\n    if not last_message.tool_calls:\n        return \"end\"\n    else:\n        return \"continue\"\n\n# Create the graph\ngraph = StateGraph(AgentState)\ngraph.add_node(\"agent3\", model_call)\n\ntool_node = ToolNode(tools=tools) #Here we create a node that neatly contains all of the tools we want the agent to have\ngraph.add_node(\"tools\", tool_node)\n\ngraph.set_entry_point(\"agent3\")\n\n# Create a conditional edge\ngraph.add_conditional_edges(\n    \"agent3\", #Origin\n    should_continue, #underlying action\n    { # Different edges along with their destinations\n        \"continue\": \"tools\",\n        \"end\": END,\n    },\n)\n\ngraph.add_edge(\"tools\", \"agent3\")\n\napp = graph.compile()"
   },
   "outputs": [],
   "source": [
    "#Underlying action behind the conditional edge (this is a decision funtion)\n",
    "def should_continue(state: AgentState):\n",
    "    messages = state[\"messages\"] #Copies the latest state into the 'message' variable \n",
    "    last_message = messages[-1] #only looks at the last message\n",
    "\n",
    "    # This code checks if there is any further tool calling required in the last message\n",
    "    if not last_message.tool_calls:\n",
    "        return \"end\"\n",
    "    else:\n",
    "        return \"continue\"\n",
    "\n",
    "# Create the graph\n",
    "graph = StateGraph(AgentState)\n",
    "graph.add_node(\"agent3\", model_call)\n",
    "\n",
    "# A tool node is needed. Create it here.\n",
    "tool_node = ToolNode(tools=tools) #Here we create a node that neatly contains all of the tools we want the agent to have\n",
    "graph.add_node(\"tools\", tool_node)\n",
    "\n",
    "graph.set_entry_point(\"agent3\") # Need to define the start and end point. END is line 28\n",
    "\n",
    "# Create a conditional edge\n",
    "graph.add_conditional_edges(\n",
    "    \"agent3\", #Origin\n",
    "    should_continue, #underlying action\n",
    "    { # Different edges along with their destinations\n",
    "        \"continue\": \"tools\",\n",
    "        \"end\": END,\n",
    "    },\n",
    ")\n",
    "\n",
    "graph.add_edge(\"tools\", \"agent3\") # this edge goes from the tools node back to agent3. Super important in order to create a loop.\n",
    "\n",
    "app = graph.compile()"
   ]
  },
  {
   "cell_type": "code",
   "execution_count": 31,
   "id": "f1915894-9b2b-4bd6-85f0-b789c13470ce",
   "metadata": {
    "executionCancelledAt": null,
    "executionTime": 42,
    "lastExecutedAt": 1758076022355,
    "lastExecutedByKernel": "16e01e39-9b33-40c0-aec1-1f30e0e238fe",
    "lastScheduledRunId": null,
    "lastSuccessfullyExecutedCode": "from IPython.display import Image, display\ndisplay(Image(app.get_graph().draw_mermaid_png()))"
   },
   "outputs": [
    {
     "data": {
      "image/png": "[encoded data removed]",
      "text/plain": [
       "<IPython.core.display.Image object>"
      ]
     },
     "metadata": {},
     "output_type": "display_data"
    }
   ],
   "source": [
    "from IPython.display import Image, display\n",
    "display(Image(app.get_graph().draw_mermaid_png()))"
   ]
  },
  {
   "cell_type": "code",
   "execution_count": 34,
   "id": "88b63fab-8c81-4574-b460-335ad16304c9",
   "metadata": {
    "executionCancelledAt": null,
    "executionTime": null,
    "lastExecutedAt": null,
    "lastExecutedByKernel": null,
    "lastScheduledRunId": null,
    "lastSuccessfullyExecutedCode": null,
    "outputsMetadata": {
     "0": {
      "height": 517,
      "type": "stream"
     }
    }
   },
   "outputs": [
    {
     "name": "stdout",
     "output_type": "stream",
     "text": [
      "================================\u001b[1m Human Message \u001b[0m=================================\n",
      "\n",
      "Who won the 2025 Champions League?\n",
      "==================================\u001b[1m Ai Message \u001b[0m==================================\n",
      "Tool Calls:\n",
      "  duckduckgo_search (call_daDo8rGR1QqDg8ryASy6R0YP)\n",
      " Call ID: call_daDo8rGR1QqDg8ryASy6R0YP\n",
      "  Args:\n",
      "    query: 2025 UEFA Champions League winner\n",
      "=================================\u001b[1m Tool Message \u001b[0m=================================\n",
      "Name: duckduckgo_search\n",
      "\n",
      "The 2025 UEFA Champions League final was the final match of the 2024–25 UEFA Champions League , the 70th season of Europe's premier club football tournament organised by UEFA , and the 33rd season since it was renamed from the European Champion Cl... This is the overview which provides the most important informations on the competition UEFA Champions League in the season 25/26.Galatasaray Turkish cup winner 2025 Turkish Champion 2025 . UEFA Champions League 2025 /2026 scores, live results, standings. UEFA Champions League . 2025 /2026. Summary Results Fixtures Standings Archive. What is the prize money for the UEFA Champions League ? Clubs involved in the league phase of the 2025 -26 Champions League will have $2.6bn distributed among them. The winner of the Champions League , along with all other teams, will be rewarded on a game-by-game basis.\n",
      "==================================\u001b[1m Ai Message \u001b[0m==================================\n",
      "Tool Calls:\n",
      "  duckduckgo_search (call_bk6u5YGLEYYsxblg3BvHhqBI)\n",
      " Call ID: call_bk6u5YGLEYYsxblg3BvHhqBI\n",
      "  Args:\n",
      "    query: 2025 UEFA Champions League winner final\n",
      "=================================\u001b[1m Tool Message \u001b[0m=================================\n",
      "Name: duckduckgo_search\n",
      "\n",
      "The 2025 UEFA Champions League final will be the final match of the 2024–25 UEFA Champions League , the 70th season of Europe's premier club ... The 2024 UEFA Champions League final was the final match of the 2023–24 UEFA Champions League , the 69th season of Europe's premier club football ... The 2024 UEFA Champions League final was the last match of the 2023–24 UEFA Champions League , which is a big football competition in Europe. It was held at the Allianz Arena in Munich, Germany, on 31 May 2025, between French club Paris Saint-Germain and Italian club Inter Milan. Paris Saint-Germain won the match 5–0 for their first European Cup title, [5] marking the second final victory by a French club since Marseille in 1993. View all 2 days ago · In 2025/26, Europe's elite club competition returns for its 71st season and its 34th since it was renamed the UEFA Champions League . It kicked off on 8 July 2025 and runs until the final in ... 1 day ago · PSG win their first UEFA Champions League title in 2025, beating Inter Milan 5-0. Know results , new format, key highlights, and 2025-26 season dates May 31, 2025 · Who won the UEFA Champions League final 2025? Paris Saint-Germain won the 2025 Champions League final after an astonishing 5-0 victory over Inter Milan in the final in Munich. May 31, 2025 · Paris Saint-Germain crushed Inter Milan 5-0 in the 2025 UEFA Champions League final at Allianz Arena in Munich, Germany, on Saturday to secure the top title in European soccer for the first time... View all Jun 23, 2025 · Discover all the details about the 2025 UEFA Champions League Final between PSG and Inter Milan , including the date, venue, kick-off time, and broadcast information for this historic clash. The final of the 2025 Champions League was played on 31 May 2025 at Allianz Arena in Munich, Germany. The match was played between French club Paris Saint-Germain and Italian club Inter Milan. PSG won 5-0. The 2025 UEFA Champions League final will be the final match of the 2024 – 25 UEFA Champions League , the 70th season of Europe's premier club ...\n",
      "==================================\u001b[1m Ai Message \u001b[0m==================================\n",
      "\n",
      "Paris Saint-Germain (PSG) won the 2025 UEFA Champions League. They defeated Inter Milan 5-0 in the final, played on May 31, 2025, at the Allianz Arena in Munich, Germany. It was PSG’s first Champions League title. If you’d like, I can pull up sources or details from the final.\n"
     ]
    }
   ],
   "source": [
    "# Function to make the output more aesthetic\n",
    "# Use this block again to improve output presentation\n",
    "def print_stream(stream):\n",
    "    for s in stream:\n",
    "        message = s[\"messages\"][-1]\n",
    "        if isinstance(message, tuple):\n",
    "            print(message)\n",
    "        else:\n",
    "            message.pretty_print()\n",
    "query = \"Who won the 2025 Champions League?\"\n",
    "inputs = {\"messages\": [(\"user\", query)]}\n",
    "print_stream(app.stream(inputs, stream_mode=\"values\"))"
   ]
  },
  {
   "cell_type": "markdown",
   "id": "ce9cea0f-6f53-485b-81d1-fe5d8c95a3db",
   "metadata": {},
   "source": [
    "# Agent #4"
   ]
  },
  {
   "cell_type": "markdown",
   "id": "6ef3b3ce-1b22-4345-87a5-7f5cfd8feab6",
   "metadata": {},
   "source": [
    "This is another ReAct agent, just with fewer lines of code.\n",
    "It's actually the exact same agent as Agent #3, just with fewer lines of code."
   ]
  },
  {
   "cell_type": "code",
   "execution_count": 3,
   "id": "543fef44-1e17-4f52-9013-9be879001d53",
   "metadata": {
    "executionCancelledAt": null,
    "executionTime": 5136,
    "lastExecutedAt": 1758744182987,
    "lastExecutedByKernel": "99c4256f-1e8e-482e-82c6-6c507179c0c3",
    "lastScheduledRunId": null,
    "lastSuccessfullyExecutedCode": "from langgraph.prebuilt import create_react_agent #Method to create ReAct agent easily\nfrom langchain_openai import ChatOpenAI\nfrom langchain_core.messages import HumanMessage\nfrom langchain_community.tools import DuckDuckGoSearchRun"
   },
   "outputs": [],
   "source": [
    "from langgraph.prebuilt import create_react_agent #Method to create ReAct agent easily\n",
    "from langchain_openai import ChatOpenAI\n",
    "from langchain_core.messages import HumanMessage\n",
    "from langchain_community.tools import DuckDuckGoSearchRun"
   ]
  },
  {
   "cell_type": "code",
   "execution_count": 6,
   "id": "aa937151-2e1b-4e4f-8401-2c9138f3f4f0",
   "metadata": {
    "executionCancelledAt": null,
    "executionTime": 13025,
    "lastExecutedAt": 1758744291498,
    "lastExecutedByKernel": "99c4256f-1e8e-482e-82c6-6c507179c0c3",
    "lastScheduledRunId": null,
    "lastSuccessfullyExecutedCode": "# Define tools we will pass to agent.\n# Also define the agent\ntools = [DuckDuckGoSearchRun()]\n\nllm = ChatOpenAI(model=\"gpt-5-nano\")\n\nagent = create_react_agent(\n    model = llm,\n    tools = tools,\n    name = \"search_agent\",\n    prompt = \"You are my AI assistant that has access to certain tools. Use the tools to help me with my tasks.\", # Basic prompt    \n)\n\nquery = \"Who won the 2025 Champions League?\"\n\nresult = agent.invoke ({\n    \"messages\": [{\"role\": \"user\",\n                  \"content\": query}]\n})"
   },
   "outputs": [],
   "source": [
    "# Define tools we will pass to agent.\n",
    "# Also define the agent\n",
    "tools = [DuckDuckGoSearchRun()]\n",
    "\n",
    "llm = ChatOpenAI(model=\"gpt-5-nano\")\n",
    "\n",
    "agent = create_react_agent(\n",
    "    model = llm,\n",
    "    tools = tools,\n",
    "    name = \"search_agent\",\n",
    "    prompt = \"You are my AI assistant that has access to certain tools. Use the tools to help me with my tasks.\", # Basic prompt    \n",
    ")\n",
    "\n",
    "query = \"Who won the 2025 Champions League?\"\n",
    "\n",
    "result = agent.invoke ({\n",
    "    \"messages\": [{\"role\": \"user\",\n",
    "                  \"content\": query}]\n",
    "})"
   ]
  },
  {
   "cell_type": "code",
   "execution_count": 8,
   "id": "753cd5b0-9cc3-4d55-80ab-d1f488fe855d",
   "metadata": {
    "executionCancelledAt": null,
    "executionTime": null,
    "lastExecutedAt": null,
    "lastExecutedByKernel": null,
    "lastScheduledRunId": null,
    "lastSuccessfullyExecutedCode": null,
    "outputsMetadata": {
     "0": {
      "height": 164,
      "type": "stream"
     }
    }
   },
   "outputs": [
    {
     "name": "stdout",
     "output_type": "stream",
     "text": [
      "Tool Calls: \n",
      "  Tool: duckduckgo_search, Args: {'query': '2025 UEFA Champions League winner'}\n",
      "/nFinal Answer:\n",
      "Paris Saint-Germain (PSG) won the 2025 UEFA Champions League, beating Inter Milan 5-0 in the final at the Allianz Arena in Munich on May 31, 2025. It was PSG’s first Champions League title. Want me to pull up sources or more details (top scorers, lineup, etc.)?\n"
     ]
    }
   ],
   "source": [
    "# \n",
    "for msg in result[\"messages\"]:\n",
    "    if hasattr(msg, \"tool_calls\") and msg.tool_calls:\n",
    "        print(\"Tool Calls: \")\n",
    "        for call in msg.tool_calls:\n",
    "            print(f\"  Tool: {call['name']}, Args: {call['args']}\")\n",
    "\n",
    "# Print the final answer\n",
    "print(\"/nFinal Answer:\")\n",
    "print(result[\"messages\"][-1].content)"
   ]
  },
  {
   "cell_type": "markdown",
   "id": "1686cf04-5f8e-4bc8-acc8-7dc477702c5a",
   "metadata": {},
   "source": [
    "# Agent #5"
   ]
  },
  {
   "cell_type": "markdown",
   "id": "da59b662-1889-44db-9f97-e8f1d8c7824c",
   "metadata": {},
   "source": [
    "Demo of how to make our own tools. After all, LangGraph won't have all of the tools we will need already built-in and ready to go."
   ]
  },
  {
   "cell_type": "code",
   "execution_count": 10,
   "id": "37aafb05-5987-4c6a-99ba-9ffadc528e0a",
   "metadata": {
    "executionCancelledAt": null,
    "executionTime": 8,
    "lastExecutedAt": 1758744692764,
    "lastExecutedByKernel": "99c4256f-1e8e-482e-82c6-6c507179c0c3",
    "lastScheduledRunId": null,
    "lastSuccessfullyExecutedCode": "# All libraries needed for Agent #5\nfrom langchain_core.tools import tool\nfrom langgraph.prebuilt import create_react_agent #Method to create ReAct agent easily\nfrom langchain_openai import ChatOpenAI\nfrom langchain_core.messages import HumanMessage\nfrom langchain_community.tools import DuckDuckGoSearchRun\nfrom datetime import datetime"
   },
   "outputs": [],
   "source": [
    "# All libraries needed for Agent #5\n",
    "from langchain_core.tools import tool # Use this line to define a custom tool\n",
    "from langgraph.prebuilt import create_react_agent #Method to create ReAct agent easily\n",
    "from langchain_openai import ChatOpenAI\n",
    "from langchain_core.messages import HumanMessage\n",
    "from langchain_community.tools import DuckDuckGoSearchRun\n",
    "from datetime import datetime"
   ]
  },
  {
   "cell_type": "code",
   "execution_count": 11,
   "id": "15ec817b-3cdd-43cc-8480-10f76f4fe0a5",
   "metadata": {
    "executionCancelledAt": null,
    "executionTime": 12,
    "lastExecutedAt": 1758744877221,
    "lastExecutedByKernel": "99c4256f-1e8e-482e-82c6-6c507179c0c3",
    "lastScheduledRunId": null,
    "lastSuccessfullyExecutedCode": "# Create a simple tool that tells us the weather in a US city\n\n@tool # This is a decorator, and tells LangGraph that this is a special function (it is a tool)\ndef weather(city: str) -> str:\n    \"\"\"Get the weather in a given city\"\"\"\n    return f\"The weather in {city} is summy\""
   },
   "outputs": [],
   "source": [
    "# Create a simple tool that tells us the weather in a US city\n",
    "\n",
    "@tool # This is a decorator, and tells LangGraph that this is a special function (it is a custom tool)\n",
    "def weather(city: str) -> str:\n",
    "    \"\"\"Get the weather in a given city\"\"\" ## MUST HAVE THIS DocString. It tells the agent what the tool is for so it knows how to use the custom tool.\n",
    "    return f\"The weather in {city} is summy\" #hard-coding the answer to see if this gets passed along (I spelled sunny wrong)"
   ]
  },
  {
   "cell_type": "code",
   "execution_count": 12,
   "id": "3862c4b4-da65-470f-a43d-d847485d023a",
   "metadata": {
    "executionCancelledAt": null,
    "executionTime": 48,
    "lastExecutedAt": 1758744949866,
    "lastExecutedByKernel": "99c4256f-1e8e-482e-82c6-6c507179c0c3",
    "lastScheduledRunId": null,
    "lastSuccessfullyExecutedCode": "tools = [weather] #Our weather tool now goes into the list of tools"
   },
   "outputs": [],
   "source": [
    "tools = [weather] #Our weather tool now goes into the list of tools"
   ]
  },
  {
   "cell_type": "code",
   "execution_count": 14,
   "id": "7bf63263-a4e8-4c70-bd94-5f52e2fbeef9",
   "metadata": {
    "executionCancelledAt": null,
    "executionTime": 15,
    "lastExecutedAt": 1758746851869,
    "lastExecutedByKernel": "99c4256f-1e8e-482e-82c6-6c507179c0c3",
    "lastScheduledRunId": null,
    "lastSuccessfullyExecutedCode": "llm = ChatOpenAI(model=\"gpt-5-nano\")\n\n# Creating th ReAct Agent with a custom tool\\\nagent = create_react_agent(\n    model = llm,\n    tools = tools,\n    name = \"weater_agent\",\n    prompt = \"You are my AI assistant that has access to certain tools. Use the tools to help me with my tasks.\", # Basic prompt \n)"
   },
   "outputs": [],
   "source": [
    "llm = ChatOpenAI(model=\"gpt-5-nano\")\n",
    "\n",
    "# Creating th ReAct Agent with a custom tool\\\n",
    "agent = create_react_agent(\n",
    "    model = llm,\n",
    "    tools = tools,\n",
    "    name = \"weater_agent\",\n",
    "    prompt = \"You are my AI assistant that has access to certain tools. Use the tools to help me with my tasks.\", # Basic prompt \n",
    ")"
   ]
  },
  {
   "cell_type": "code",
   "execution_count": 15,
   "id": "c412ff90-c5b0-4ab3-a36d-cd2e0f701519",
   "metadata": {
    "executionCancelledAt": null,
    "executionTime": null,
    "lastExecutedAt": null,
    "lastExecutedByKernel": null,
    "lastScheduledRunId": null,
    "lastSuccessfullyExecutedCode": null,
    "outputsMetadata": {
     "0": {
      "height": 311,
      "type": "stream"
     }
    }
   },
   "outputs": [
    {
     "name": "stdout",
     "output_type": "stream",
     "text": [
      "Tool Calls:\n",
      "  Tool: weather, Args: {'city': 'Phoenix'}\n",
      "Tool Calls:\n",
      "  Tool: weather, Args: {'city': 'Phoenix'}\n",
      "Tool Calls:\n",
      "  Tool: weather, Args: {'city': 'Phoenix'}\n",
      "Tool Calls:\n",
      "  Tool: weather, Args: {'city': 'Phoenix'}\n",
      "Tool Calls:\n",
      "  Tool: weather, Args: {'city': 'Phoenix'}\n",
      "\n",
      "Final Answer:\n",
      "The weather in Phoenix is sunny right now. Would you like current temperature, humidity, wind, or a 7-day forecast?\n"
     ]
    }
   ],
   "source": [
    "# Obtain the result\n",
    "result = agent.invoke({\n",
    "    \"messages\": [{\"role\": \"user\", \"content\": f\"What is the weather in Phoenix?\"}]\n",
    "})\n",
    "\n",
    "# Printing the final answer and making it more readable:\n",
    "for msg in result[\"messages\"]:\n",
    "    if hasattr(msg, \"tool_calls\") and msg.tool_calls:\n",
    "        print(\"Tool Calls:\")\n",
    "        for call in msg.tool_calls:\n",
    "            print(f\"  Tool: {call['name']}, Args: {call['args']}\")\n",
    "\n",
    "# Print the final answer\n",
    "print(\"\\nFinal Answer:\")\n",
    "print(result[\"messages\"][-1].content)"
   ]
  },
  {
   "cell_type": "markdown",
   "id": "e1d4b075-85fd-4db9-aa62-52ef704b3af3",
   "metadata": {},
   "source": [
    "#### We can input as many tools as we want"
   ]
  },
  {
   "cell_type": "code",
   "execution_count": 16,
   "id": "fa3bdeb8-3ec2-43d4-ba53-15eaf118b7bf",
   "metadata": {
    "executionCancelledAt": null,
    "executionTime": 50,
    "lastExecutedAt": 1758747501690,
    "lastExecutedByKernel": "99c4256f-1e8e-482e-82c6-6c507179c0c3",
    "lastScheduledRunId": null,
    "lastSuccessfullyExecutedCode": "# Update the docstring to define more tools\n\n@tool\ndef social_media_follwer_count(social_media: str) -> str:\n    \"\"\" Retrieves the current follower count for a specified social media platform.\n    \n    Args:\n        social_media (str): The name of the social media platform (e.g. 'twitter', 'instagram', 'linkedin')\n        \n    Returns:\n        str: The follower count as a formatted string\n        \n    Example:\n        >>> social_media_follower_count('twitter')\n        '1,234 followers'\n    \"\"\"\n\n    return f\"You have 9876 followers on {social_media}\""
   },
   "outputs": [],
   "source": [
    "# Update the docstring to define more tools\n",
    "\n",
    "@tool\n",
    "def social_media_follwer_count(social_media: str) -> str:\n",
    "    \"\"\" Retrieves the current follower count for a specified social media platform.\n",
    "    \n",
    "    Args:\n",
    "        social_media (str): The name of the social media platform (e.g. 'twitter', 'instagram', 'linkedin')\n",
    "        \n",
    "    Returns:\n",
    "        str: The follower count as a formatted string\n",
    "        \n",
    "    Example:\n",
    "        >>> social_media_follower_count('twitter')\n",
    "        '1,234 followers'\n",
    "    \"\"\"\n",
    "\n",
    "    return f\"You have 9876 followers on {social_media}\""
   ]
  },
  {
   "cell_type": "code",
   "execution_count": 17,
   "id": "d86d66a4-0e0b-4130-b51e-d075070dfb74",
   "metadata": {
    "executionCancelledAt": null,
    "executionTime": 17,
    "lastExecutedAt": 1758747505553,
    "lastExecutedByKernel": "99c4256f-1e8e-482e-82c6-6c507179c0c3",
    "lastScheduledRunId": null,
    "lastSuccessfullyExecutedCode": "# Define the tools list\ntools = [weather, social_media_follwer_count]\nllm = ChatOpenAI(model=\"gpt-5-nano\")\n\n# Creating the ReAct Agent with our custom tools\nagent = create_react_agent(\n    model = llm,\n    tools = tools,\n    name = \"general_agent\",\n    prompt = \"You are my AI assistant that has access to certain tools. Use the tools to help me with my tasks.\", # Basic prompt \n)"
   },
   "outputs": [],
   "source": [
    "# Define the tools list\n",
    "tools = [weather, social_media_follwer_count]\n",
    "llm = ChatOpenAI(model=\"gpt-5-nano\")\n",
    "\n",
    "# Creating the ReAct Agent with our custom tools\n",
    "agent = create_react_agent(\n",
    "    model = llm,\n",
    "    tools = tools,\n",
    "    name = \"general_agent\",\n",
    "    prompt = \"You are my AI assistant that has access to certain tools. Use the tools to help me with my tasks.\", # Basic prompt \n",
    ")"
   ]
  },
  {
   "cell_type": "code",
   "execution_count": 18,
   "id": "d851de10-fa0a-4928-8544-d9556ae6b0f8",
   "metadata": {
    "executionCancelledAt": null,
    "executionTime": null,
    "lastExecutedAt": null,
    "lastExecutedByKernel": null,
    "lastScheduledRunId": null,
    "lastSuccessfullyExecutedCode": null,
    "outputsMetadata": {
     "0": {
      "height": 332,
      "type": "stream"
     }
    }
   },
   "outputs": [
    {
     "name": "stdout",
     "output_type": "stream",
     "text": [
      "Tool Calls:\n",
      "  Tool: weather, Args: {'city': 'Phoenix'}\n",
      "  Tool: social_media_follwer_count, Args: {'social_media': 'LinkedIn'}\n",
      "  Tool: social_media_follwer_count, Args: {'social_media': 'Instagram'}\n",
      "\n",
      "Final Answer:\n",
      "Here are the results:\n",
      "\n",
      "- Weather in Phoenix: summy (looks like a typo—likely meant \"sunny\"). I can re-fetch the current conditions to confirm and get a forecast if you’d like.\n",
      "- LinkedIn followers: 9,876\n",
      "- Instagram followers: 9,876\n",
      "\n",
      "Would you like me to pull the latest forecast for Phoenix or refresh the weather data to confirm?\n"
     ]
    }
   ],
   "source": [
    "# Obtain the result\n",
    "result = agent.invoke({\n",
    "    \"messages\": [{\"role\": \"user\", \"content\": f\"What is the weather in Phoenix? How many followers do I have on LinkedIn? What about Instagram?\"}]\n",
    "})\n",
    "\n",
    "# Printing the final answer and making it more readable:\n",
    "for msg in result[\"messages\"]:\n",
    "    if hasattr(msg, \"tool_calls\") and msg.tool_calls:\n",
    "        print(\"Tool Calls:\")\n",
    "        for call in msg.tool_calls:\n",
    "            print(f\"  Tool: {call['name']}, Args: {call['args']}\")\n",
    "\n",
    "# Print the final answer\n",
    "print(\"\\nFinal Answer:\")\n",
    "print(result[\"messages\"][-1].content)"
   ]
  },
  {
   "cell_type": "markdown",
   "id": "601ab871-41bd-4118-82dd-e73be05be245",
   "metadata": {},
   "source": [
    "# Agent #6"
   ]
  },
  {
   "cell_type": "markdown",
   "id": "8c7fc6a3-4bf9-47bd-89a8-90f6443c395c",
   "metadata": {},
   "source": [
    "#### Use an Ollama model"
   ]
  },
  {
   "cell_type": "code",
   "execution_count": 22,
   "id": "b18ce010-71ae-4490-9281-5ec93911512b",
   "metadata": {
    "executionCancelledAt": null,
    "executionTime": null,
    "lastExecutedAt": null,
    "lastExecutedByKernel": null,
    "lastScheduledRunId": null,
    "lastSuccessfullyExecutedCode": null,
    "outputsMetadata": {
     "0": {
      "height": 518,
      "type": "stream"
     }
    }
   },
   "outputs": [
    {
     "name": "stdout",
     "output_type": "stream",
     "text": [
      "Defaulting to user installation because normal site-packages is not writeable\n",
      "Collecting langchain_ollama\n",
      "  Downloading langchain_ollama-0.3.8-py3-none-any.whl.metadata (2.1 kB)\n",
      "Collecting ollama<1.0.0,>=0.5.3 (from langchain_ollama)\n",
      "  Downloading ollama-0.5.4-py3-none-any.whl.metadata (4.3 kB)\n",
      "Requirement already satisfied: langchain-core<1.0.0,>=0.3.76 in /home/repl/.local/lib/python3.10/site-packages (from langchain_ollama) (0.3.76)\n",
      "Requirement already satisfied: langsmith>=0.3.45 in /home/repl/.local/lib/python3.10/site-packages (from langchain-core<1.0.0,>=0.3.76->langchain_ollama) (0.4.30)\n",
      "Requirement already satisfied: tenacity!=8.4.0,<10.0.0,>=8.1.0 in /usr/local/lib/python3.10/dist-packages (from langchain-core<1.0.0,>=0.3.76->langchain_ollama) (8.5.0)\n",
      "Requirement already satisfied: jsonpatch<2.0,>=1.33 in /usr/local/lib/python3.10/dist-packages (from langchain-core<1.0.0,>=0.3.76->langchain_ollama) (1.33)\n",
      "Requirement already satisfied: PyYAML>=5.3 in /usr/local/lib/python3.10/dist-packages (from langchain-core<1.0.0,>=0.3.76->langchain_ollama) (6.0.1)\n",
      "Requirement already satisfied: typing-extensions>=4.7 in /usr/local/lib/python3.10/dist-packages (from langchain-core<1.0.0,>=0.3.76->langchain_ollama) (4.12.2)\n",
      "Requirement already satisfied: packaging>=23.2 in /usr/local/lib/python3.10/dist-packages (from langchain-core<1.0.0,>=0.3.76->langchain_ollama) (23.2)\n",
      "Requirement already satisfied: pydantic>=2.7.4 in /home/repl/.local/lib/python3.10/site-packages (from langchain-core<1.0.0,>=0.3.76->langchain_ollama) (2.11.9)\n",
      "Requirement already satisfied: httpx>=0.27 in /home/repl/.local/lib/python3.10/site-packages (from ollama<1.0.0,>=0.5.3->langchain_ollama) (0.28.1)\n",
      "Requirement already satisfied: anyio in /usr/local/lib/python3.10/dist-packages (from httpx>=0.27->ollama<1.0.0,>=0.5.3->langchain_ollama) (4.8.0)\n",
      "Requirement already satisfied: certifi in /usr/local/lib/python3.10/dist-packages (from httpx>=0.27->ollama<1.0.0,>=0.5.3->langchain_ollama) (2025.1.31)\n",
      "Requirement already satisfied: httpcore==1.* in /usr/local/lib/python3.10/dist-packages (from httpx>=0.27->ollama<1.0.0,>=0.5.3->langchain_ollama) (1.0.7)\n",
      "Requirement already satisfied: idna in /usr/local/lib/python3.10/dist-packages (from httpx>=0.27->ollama<1.0.0,>=0.5.3->langchain_ollama) (3.10)\n",
      "Requirement already satisfied: h11<0.15,>=0.13 in /usr/local/lib/python3.10/dist-packages (from httpcore==1.*->httpx>=0.27->ollama<1.0.0,>=0.5.3->langchain_ollama) (0.14.0)\n",
      "Requirement already satisfied: jsonpointer>=1.9 in /usr/local/lib/python3.10/dist-packages (from jsonpatch<2.0,>=1.33->langchain-core<1.0.0,>=0.3.76->langchain_ollama) (3.0.0)\n",
      "Requirement already satisfied: orjson>=3.9.14 in /usr/local/lib/python3.10/dist-packages (from langsmith>=0.3.45->langchain-core<1.0.0,>=0.3.76->langchain_ollama) (3.10.15)\n",
      "Requirement already satisfied: requests-toolbelt>=1.0.0 in /usr/local/lib/python3.10/dist-packages (from langsmith>=0.3.45->langchain-core<1.0.0,>=0.3.76->langchain_ollama) (1.0.0)\n",
      "Requirement already satisfied: requests>=2.0.0 in /home/repl/.local/lib/python3.10/site-packages (from langsmith>=0.3.45->langchain-core<1.0.0,>=0.3.76->langchain_ollama) (2.32.5)\n",
      "Requirement already satisfied: zstandard>=0.23.0 in /home/repl/.local/lib/python3.10/site-packages (from langsmith>=0.3.45->langchain-core<1.0.0,>=0.3.76->langchain_ollama) (0.25.0)\n",
      "Requirement already satisfied: annotated-types>=0.6.0 in /usr/local/lib/python3.10/dist-packages (from pydantic>=2.7.4->langchain-core<1.0.0,>=0.3.76->langchain_ollama) (0.7.0)\n",
      "Requirement already satisfied: pydantic-core==2.33.2 in /home/repl/.local/lib/python3.10/site-packages (from pydantic>=2.7.4->langchain-core<1.0.0,>=0.3.76->langchain_ollama) (2.33.2)\n",
      "Requirement already satisfied: typing-inspection>=0.4.0 in /home/repl/.local/lib/python3.10/site-packages (from pydantic>=2.7.4->langchain-core<1.0.0,>=0.3.76->langchain_ollama) (0.4.1)\n",
      "Requirement already satisfied: charset_normalizer<4,>=2 in /usr/local/lib/python3.10/dist-packages (from requests>=2.0.0->langsmith>=0.3.45->langchain-core<1.0.0,>=0.3.76->langchain_ollama) (3.4.1)\n",
      "Requirement already satisfied: urllib3<3,>=1.21.1 in /usr/local/lib/python3.10/dist-packages (from requests>=2.0.0->langsmith>=0.3.45->langchain-core<1.0.0,>=0.3.76->langchain_ollama) (2.3.0)\n",
      "Requirement already satisfied: exceptiongroup>=1.0.2 in /usr/local/lib/python3.10/dist-packages (from anyio->httpx>=0.27->ollama<1.0.0,>=0.5.3->langchain_ollama) (1.2.2)\n",
      "Requirement already satisfied: sniffio>=1.1 in /usr/local/lib/python3.10/dist-packages (from anyio->httpx>=0.27->ollama<1.0.0,>=0.5.3->langchain_ollama) (1.3.1)\n",
      "Downloading langchain_ollama-0.3.8-py3-none-any.whl (25 kB)\n",
      "Downloading ollama-0.5.4-py3-none-any.whl (13 kB)\n",
      "Installing collected packages: ollama, langchain_ollama\n",
      "Successfully installed langchain_ollama-0.3.8 ollama-0.5.4\n",
      "\n",
      "\u001b[1m[\u001b[0m\u001b[34;49mnotice\u001b[0m\u001b[1;39;49m]\u001b[0m\u001b[39;49m A new release of pip is available: \u001b[0m\u001b[31;49m25.0.1\u001b[0m\u001b[39;49m -> \u001b[0m\u001b[32;49m25.2\u001b[0m\n",
      "\u001b[1m[\u001b[0m\u001b[34;49mnotice\u001b[0m\u001b[1;39;49m]\u001b[0m\u001b[39;49m To update, run: \u001b[0m\u001b[32;49mpython3 -m pip install --upgrade pip\u001b[0m\n"
     ]
    }
   ],
   "source": [
    "!pip install langchain_ollama"
   ]
  },
  {
   "cell_type": "code",
   "execution_count": 23,
   "id": "a224fb69-99e1-451d-9fd3-7fe5a7fb3ced",
   "metadata": {
    "executionCancelledAt": null,
    "executionTime": 141,
    "lastExecutedAt": 1758748120790,
    "lastExecutedByKernel": "99c4256f-1e8e-482e-82c6-6c507179c0c3",
    "lastScheduledRunId": null,
    "lastSuccessfullyExecutedCode": "# Import the libraries needed for Agent #6\nfrom langchain_core.tools import tool # Use this line to define a custom tool\nfrom langgraph.prebuilt import create_react_agent #Method to create ReAct agent easily\nfrom langchain_openai import ChatOpenAI\nfrom langchain_ollama import ChatOllama\nfrom langchain_core.messages import HumanMessage\nfrom langchain_community.tools import DuckDuckGoSearchRun\nfrom datetime import datetime"
   },
   "outputs": [],
   "source": [
    "# Import the libraries needed for Agent #6\n",
    "from langchain_core.tools import tool # Use this line to define a custom tool\n",
    "from langgraph.prebuilt import create_react_agent #Method to create ReAct agent easily\n",
    "from langchain_openai import ChatOpenAI\n",
    "from langchain_ollama import ChatOllama\n",
    "from langchain_core.messages import HumanMessage\n",
    "from langchain_community.tools import DuckDuckGoSearchRun\n",
    "from datetime import datetime"
   ]
  },
  {
   "cell_type": "code",
   "execution_count": 24,
   "id": "fec345ce-9b09-4de0-8b10-8cb1b6086201",
   "metadata": {
    "executionCancelledAt": null,
    "executionTime": 53,
    "lastExecutedAt": 1758748243198,
    "lastExecutedByKernel": "99c4256f-1e8e-482e-82c6-6c507179c0c3",
    "lastScheduledRunId": null,
    "lastSuccessfullyExecutedCode": "# Create a simple tool that tells us the weather in a US city\n\n@tool # This is a decorator, and tells LangGraph that this is a special function (it is a custom tool)\ndef weather(city: str) -> str:\n    \"\"\"Get the weather in a given city\"\"\" ## MUST HAVE THIS DocString. It tells the agent what the tool is for so it knows how to use the custom tool.\n    return f\"The weather in {city} is rainy\" #hard-coding the answer. This is the result if the search cannot find any other result."
   },
   "outputs": [],
   "source": [
    "# Create a simple tool that tells us the weather in a US city\n",
    "\n",
    "@tool # This is a decorator, and tells LangGraph that this is a special function (it is a custom tool)\n",
    "def weather(city: str) -> str:\n",
    "    \"\"\"Get the weather in a given city\"\"\" ## MUST HAVE THIS DocString. It tells the agent what the tool is for so it knows how to use the custom tool.\n",
    "    return f\"The weather in {city} is rainy\" #hard-coding the answer. This is the result if the search cannot find any other result."
   ]
  },
  {
   "cell_type": "code",
   "execution_count": 35,
   "id": "9a6bb68a-c4ed-4a98-9bb8-3dc9dcff09d0",
   "metadata": {
    "executionCancelledAt": null,
    "executionTime": 97,
    "lastExecutedAt": 1758749564282,
    "lastExecutedByKernel": "99c4256f-1e8e-482e-82c6-6c507179c0c3",
    "lastScheduledRunId": null,
    "lastSuccessfullyExecutedCode": "tools = [weather, DuckDuckGoSearchRun()]\n\nllm_ollama = ChatOllama(model=\"define_me\")\nllm_openai = ChatOpenAI(model=\"gpt-5-nano\")\n\ndate = datetime.now().strftime(\"%Y-%m-%d\") #Tells us the current date and time"
   },
   "outputs": [],
   "source": [
    "tools = [weather, DuckDuckGoSearchRun()]\n",
    "\n",
    "llm_ollama = ChatOllama(model=\"define_me\")\n",
    "llm_openai = ChatOpenAI(model=\"gpt-5-nano\")\n",
    "\n",
    "date = datetime.now().strftime(\"%Y-%m-%d\") #Tells us the current date and time"
   ]
  },
  {
   "cell_type": "code",
   "execution_count": 36,
   "id": "130acac0-0c86-4620-a704-2cc6258b3ec4",
   "metadata": {
    "executionCancelledAt": null,
    "executionTime": 16,
    "lastExecutedAt": 1758749570648,
    "lastExecutedByKernel": "99c4256f-1e8e-482e-82c6-6c507179c0c3",
    "lastScheduledRunId": null,
    "lastSuccessfullyExecutedCode": "# Define the OpenAI ReAct Agent\n\n# Creating the ReAct Agent with the custom tools\nopenai_agent = create_react_agent(\n    model = llm_openai,\n    tools = tools,\n    name = \"general_agent\",\n    prompt = \"You are my AI assistant that has access to certain tools. Use the tools to help me with my tasks.\", # Basic prompt \n)"
   },
   "outputs": [],
   "source": [
    "# Define the OpenAI ReAct Agent\n",
    "\n",
    "# Creating the ReAct Agent with the custom tools\n",
    "openai_agent = create_react_agent(\n",
    "    model = llm_openai,\n",
    "    tools = tools,\n",
    "    name = \"general_agent\",\n",
    "    prompt = \"You are my AI assistant that has access to certain tools. Use the tools to help me with my tasks.\", # Basic prompt \n",
    ")"
   ]
  },
  {
   "cell_type": "code",
   "execution_count": 37,
   "id": "76a597db-1b39-4e43-a4a0-6a8409ea3a26",
   "metadata": {
    "executionCancelledAt": null,
    "executionTime": null,
    "lastExecutedAt": null,
    "lastExecutedByKernel": null,
    "lastScheduledRunId": null,
    "lastSuccessfullyExecutedCode": null,
    "outputsMetadata": {
     "0": {
      "height": 518,
      "type": "stream"
     }
    }
   },
   "outputs": [
    {
     "name": "stdout",
     "output_type": "stream",
     "text": [
      "\n",
      "--- OpenAI Agent Results ---\n",
      "Tool Calls:\n",
      "  Tool: weather, Args: {'city': 'Phoenix'}\n",
      "  Tool: duckduckgo_search, Args: {'query': 'Alimentation Couche-Tard stock price today ATD.B'}\n",
      "  Tool: duckduckgo_search, Args: {'query': 'Alimentation Couche-Tard stock performance last 7 days'}\n",
      "Tool Calls:\n",
      "  Tool: weather, Args: {'city': 'Phoenix'}\n",
      "  Tool: duckduckgo_search, Args: {'query': 'Alimentation Couche-Tard stock price today'}\n",
      "  Tool: duckduckgo_search, Args: {'query': 'Alimentation Couche-Tard stock performance last 7 days'}\n",
      "Tool Calls:\n",
      "  Tool: weather, Args: {'city': 'Phoenix'}\n",
      "  Tool: duckduckgo_search, Args: {'query': 'ATD.B stock price today Sep 24 2025'}\n",
      "  Tool: duckduckgo_search, Args: {'query': 'ATD stock performance last 7 days Sep 2025'}\n",
      "Tool Calls:\n",
      "  Tool: weather, Args: {'city': 'Phoenix'}\n",
      "  Tool: duckduckgo_search, Args: {'query': 'ATD.B stock price today Sep 24, 2025'}\n",
      "  Tool: duckduckgo_search, Args: {'query': 'ATD.B stock performance last 7 days Sep 2025'}\n",
      "Tool Calls:\n",
      "  Tool: weather, Args: {'city': 'Phoenix'}\n",
      "  Tool: duckduckgo_search, Args: {'query': 'ATD.TO stock price today Sep 24 2025'}\n",
      "  Tool: duckduckgo_search, Args: {'query': 'ATD.TO stock performance last 7 days Sep 2025'}\n",
      "Tool Calls:\n",
      "  Tool: weather, Args: {'city': 'Phoenix'}\n",
      "  Tool: duckduckgo_search, Args: {'query': 'ATD.TO stock price today Sep 24 2025'}\n",
      "  Tool: duckduckgo_search, Args: {'query': 'ATD.TO stock performance last 7 days Sep 2025'}\n",
      "Tool Calls:\n",
      "  Tool: weather, Args: {'city': 'Phoenix'}\n",
      "  Tool: duckduckgo_search, Args: {'query': 'ATD.TO price Sep 24 2025'}\n",
      "  Tool: duckduckgo_search, Args: {'query': 'Alimentation Couche-Tard ATD last 7 days Sep 2025'}\n",
      "Tool Calls:\n",
      "  Tool: duckduckgo_search, Args: {'query': 'ATD.TO stock price Sep 24 2025'}\n",
      "  Tool: duckduckgo_search, Args: {'query': 'ATD.TO stock performance last 7 days Sep 2025'}\n",
      "Tool Calls:\n",
      "  Tool: weather, Args: {'city': 'Phoenix'}\n",
      "  Tool: duckduckgo_search, Args: {'query': 'ATD.TO Sep 24 2025 stock price'}\n",
      "  Tool: duckduckgo_search, Args: {'query': 'ATD.TO 7 day stock performance Sep 2025'}\n",
      "Tool Calls:\n",
      "  Tool: weather, Args: {'city': 'Phoenix'}\n",
      "  Tool: duckduckgo_search, Args: {'query': 'ATD.TO stock price Sep 24 2025'}\n",
      "  Tool: duckduckgo_search, Args: {'query': 'ATD.TO last 7 days Sep 2025'}\n",
      "Tool Calls:\n",
      "  Tool: weather, Args: {'city': 'Phoenix'}\n",
      "\n",
      "Final Answer (OpenAI):\n",
      "Here’s a concise update on each part of your request:\n",
      "\n",
      "- Weather in Phoenix: It’s rainy right now.\n",
      "\n",
      "- Circle K stock information (as of today, 2025-09-24) and its performance over the past week:\n",
      "  - I’m not seeing a clear, consistent source in my current results for a Circle K brand-specific stock. Circle K is a private brand operated by Alimentation Couche-Tard (ATD) in many markets, and ATD is publicly traded (TSX: ATD, ATD.TO). There isn’t a separate public “Circle K stock” ticker. If you’re asking about ATD (Alimentation Couche-Tard), I can provide today’s ATD price and its 7-day performance if you’d like. Otherwise, Circle K itself doesn’t have a standalone public listing.\n",
      "  - If you want ATD data: I can pull the latest price for ATD (TSX) and summarize its performance over the last 7 days. Do you want me to fetch that now?\n",
      "\n",
      "- What today is:\n",
      "  - Today is September 24, 2025.\n",
      "\n",
      "- List of tools I have access to:\n",
      "  - Weather (to fetch weather by city)\n",
      "  - DuckDuckGo search (for web results and current info)\n",
      "  - Multi-tool wrapper (multi_tool_use) to run multiple tools in parallel\n",
      "\n",
      "Would you like me to fetch the latest ATD/ATD.TO price and 7-day performance now, and also confirm Circle K market info from ATD? If you have a preferred exchange (TSX, NASDAQ ADR, etc.), tell me and I’ll tailor the data.\n"
     ]
    }
   ],
   "source": [
    "# Execute the OpenAI Agent\n",
    "print(\"\\n--- OpenAI Agent Results ---\")\n",
    "openai_result = openai_agent.invoke({\n",
    "    \"messages\": [{\"role\": \"user\", \"content\": f\"What is the weather in Phoenix? Tell me about the stock of 3M as of today {date} and how the stock has performed in the past week. Tell me what today is. Also tell me a list of tools you have please.\"}]\n",
    "})\n",
    "\n",
    "# Printing the final answer and making it more readable:\n",
    "for msg in openai_result[\"messages\"]:\n",
    "    if hasattr(msg, \"tool_calls\") and msg.tool_calls:\n",
    "        print(\"Tool Calls:\")\n",
    "        for call in msg.tool_calls:\n",
    "            print(f\"  Tool: {call['name']}, Args: {call['args']}\")\n",
    "\n",
    "# Print the final answer\n",
    "print(\"\\nFinal Answer (OpenAI):\")\n",
    "print(openai_result[\"messages\"][-1].content)"
   ]
  },
  {
   "cell_type": "code",
   "execution_count": 38,
   "id": "02865d53-4bf5-4c4a-a77a-99e39c11c887",
   "metadata": {
    "executionCancelledAt": null,
    "executionTime": 16,
    "lastExecutedAt": 1758749913740,
    "lastExecutedByKernel": "99c4256f-1e8e-482e-82c6-6c507179c0c3",
    "lastScheduledRunId": null,
    "lastSuccessfullyExecutedCode": "# Define the Ollama ReAct Agent\n\n# Creating the ReAct Agent with the custom tools\nollama_agent = create_react_agent(\n    model = llm_ollama,\n    tools = tools,\n    name = \"general_agent\",\n    prompt = \"You are my AI assistant that has access to certain tools. Use the tools to help me with my tasks.\", # Basic prompt \n)"
   },
   "outputs": [],
   "source": [
    "# Define the Ollama ReAct Agent\n",
    "\n",
    "# Creating the ReAct Agent with the custom tools\n",
    "ollama_agent = create_react_agent(\n",
    "    model = llm_ollama,\n",
    "    tools = tools,\n",
    "    name = \"general_agent\",\n",
    "    prompt = \"You are my AI assistant that has access to certain tools. Use the tools to help me with my tasks.\", # Basic prompt \n",
    ")"
   ]
  },
  {
   "cell_type": "code",
   "execution_count": null,
   "id": "453f55fa-d3f8-4b44-98f5-feb248d81047",
   "metadata": {},
   "outputs": [],
   "source": [
    "# Execute the Ollama Agent\n",
    "print(\"\\n--- Ollama Agent Results ---\")\n",
    "ollama_result = ollama_agent.invoke({\n",
    "    \"messages\": [{\"role\": \"user\", \"content\": f\"What is the weather in Phoenix? Tell me about the stock of Circle K as of today {date} and how the stock has performed in the past week. Tell me what today is. Also tell me a list of tools you have please.\"}]\n",
    "})\n",
    "\n",
    "# Printing the final answer and making it more readable:\n",
    "for msg in ollama_result[\"messages\"]:\n",
    "    if hasattr(msg, \"tool_calls\") and msg.tool_calls:\n",
    "        print(\"Tool Calls:\")\n",
    "        for call in msg.tool_calls:\n",
    "            print(f\"  Tool: {call['name']}, Args: {call['args']}\")\n",
    "\n",
    "# Print the final answer\n",
    "print(\"\\nFinal Answer (Ollama_AI):\")\n",
    "print(\"\\n------ This won't actually work because I haven't set up an account with Ollama\")\n",
    "print(ollama_result[\"messages\"][-1].content)"
   ]
  }
 ],
 "metadata": {
  "colab": {
   "name": "Welcome to DataCamp Workspaces.ipynb",
   "provenance": []
  },
  "kernelspec": {
   "display_name": "Python 3 (ipykernel)",
   "language": "python",
   "name": "python3"
  },
  "language_info": {
   "codemirror_mode": {
    "name": "ipython",
    "version": 3
   },
   "file_extension": ".py",
   "mimetype": "text/x-python",
   "name": "python",
   "nbconvert_exporter": "python",
   "pygments_lexer": "ipython3",
   "version": "3.8.5"
  }
 },
 "nbformat": 4,
 "nbformat_minor": 5
}
